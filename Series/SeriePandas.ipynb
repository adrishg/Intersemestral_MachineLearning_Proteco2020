{
 "cells": [
  {
   "cell_type": "markdown",
   "metadata": {},
   "source": [
    "### 2. Serie Pandas\n",
    "\n",
    "Está es la segunda de tres series de módulos científicos.\n",
    "\n",
    "\n"
   ]
  },
  {
   "cell_type": "code",
   "execution_count": 4,
   "metadata": {},
   "outputs": [],
   "source": [
    "import pandas as pd"
   ]
  },
  {
   "cell_type": "markdown",
   "metadata": {},
   "source": [
    "1) Considerando el siguiente set de datos:\n",
    "           \n",
    "           a) Crea un dataframe a partir de datos\n",
    "           b) Despliega los primeros tres datos de dicho dataframe\n",
    "           c) Despliga los últimos dos datos de dicho dataframe\n",
    "           d) Una descripción de los datos (count, mean, std, ...) "
   ]
  },
  {
   "cell_type": "code",
   "execution_count": 8,
   "metadata": {},
   "outputs": [],
   "source": [
    "datos = {\n",
    "    'fecha':pd.date_range('20200430', periods=6),\n",
    "    'calidad':pd.Categorical(['buena', 'muy buena', 'mala', 'buena', 'muy mala', 'buena'],\n",
    "                                 categories = ['muy mala', 'mala', 'regular', 'buena', 'muy buena'],\n",
    "                                 ordered = True),\n",
    "    'asistentes':[10, 25, 12, 3, 23, 43],\n",
    "    'recomendaciones':['hablar más lento', 'me aburri', 'Derek hacia cosas raras', 'excelente', 'no se entendio nada',\n",
    "               '¿Y el recreo?']\n",
    "}"
   ]
  },
  {
   "cell_type": "code",
   "execution_count": null,
   "metadata": {},
   "outputs": [],
   "source": []
  },
  {
   "cell_type": "markdown",
   "metadata": {},
   "source": [
    "2) Crea una función que pida número de columnas, su nombre y número de datos a ingresar de manera que el usuario pueda crear un dataframe con los datos de su preferencia."
   ]
  },
  {
   "cell_type": "code",
   "execution_count": null,
   "metadata": {},
   "outputs": [],
   "source": []
  },
  {
   "cell_type": "markdown",
   "metadata": {},
   "source": [
    "3) A partir del siguiente DataSet realiza:"
   ]
  },
  {
   "cell_type": "code",
   "execution_count": 11,
   "metadata": {},
   "outputs": [
    {
     "data": {
      "text/html": [
       "<div>\n",
       "<style scoped>\n",
       "    .dataframe tbody tr th:only-of-type {\n",
       "        vertical-align: middle;\n",
       "    }\n",
       "\n",
       "    .dataframe tbody tr th {\n",
       "        vertical-align: top;\n",
       "    }\n",
       "\n",
       "    .dataframe thead th {\n",
       "        text-align: right;\n",
       "    }\n",
       "</style>\n",
       "<table border=\"1\" class=\"dataframe\">\n",
       "  <thead>\n",
       "    <tr style=\"text-align: right;\">\n",
       "      <th></th>\n",
       "      <th>R&amp;D Spend</th>\n",
       "      <th>Administration</th>\n",
       "      <th>Marketing Spend</th>\n",
       "      <th>State</th>\n",
       "      <th>Profit</th>\n",
       "    </tr>\n",
       "  </thead>\n",
       "  <tbody>\n",
       "    <tr>\n",
       "      <th>0</th>\n",
       "      <td>165349.20</td>\n",
       "      <td>136897.80</td>\n",
       "      <td>471784.10</td>\n",
       "      <td>New York</td>\n",
       "      <td>192261.83</td>\n",
       "    </tr>\n",
       "    <tr>\n",
       "      <th>1</th>\n",
       "      <td>162597.70</td>\n",
       "      <td>151377.59</td>\n",
       "      <td>443898.53</td>\n",
       "      <td>California</td>\n",
       "      <td>191792.06</td>\n",
       "    </tr>\n",
       "    <tr>\n",
       "      <th>2</th>\n",
       "      <td>153441.51</td>\n",
       "      <td>101145.55</td>\n",
       "      <td>407934.54</td>\n",
       "      <td>Florida</td>\n",
       "      <td>191050.39</td>\n",
       "    </tr>\n",
       "    <tr>\n",
       "      <th>3</th>\n",
       "      <td>144372.41</td>\n",
       "      <td>118671.85</td>\n",
       "      <td>383199.62</td>\n",
       "      <td>New York</td>\n",
       "      <td>182901.99</td>\n",
       "    </tr>\n",
       "    <tr>\n",
       "      <th>4</th>\n",
       "      <td>142107.34</td>\n",
       "      <td>91391.77</td>\n",
       "      <td>366168.42</td>\n",
       "      <td>Florida</td>\n",
       "      <td>166187.94</td>\n",
       "    </tr>\n",
       "  </tbody>\n",
       "</table>\n",
       "</div>"
      ],
      "text/plain": [
       "   R&D Spend  Administration  Marketing Spend       State     Profit\n",
       "0  165349.20       136897.80        471784.10    New York  192261.83\n",
       "1  162597.70       151377.59        443898.53  California  191792.06\n",
       "2  153441.51       101145.55        407934.54     Florida  191050.39\n",
       "3  144372.41       118671.85        383199.62    New York  182901.99\n",
       "4  142107.34        91391.77        366168.42     Florida  166187.94"
      ]
     },
     "execution_count": 11,
     "metadata": {},
     "output_type": "execute_result"
    }
   ],
   "source": [
    "#Liga del github: https://raw.githubusercontent.com/adrishg/PythonML-PrebecariosProteco/master/DataSets/startupsUSA.csv\n",
    "#Podrán agregar archivos de github y leerlos usando el url raw\n",
    "data = pd.read_csv('https://raw.githubusercontent.com/adrishg/PythonML-PrebecariosProteco/master/DataSets/startupsUSA.csv')\n",
    "data.head()"
   ]
  },
  {
   "cell_type": "markdown",
   "metadata": {},
   "source": [
    "    a) Crea una función que reciba un lugar y despligue en el número de empresas que residen en dicho lugar"
   ]
  },
  {
   "cell_type": "code",
   "execution_count": null,
   "metadata": {},
   "outputs": [],
   "source": []
  },
  {
   "cell_type": "markdown",
   "metadata": {},
   "source": [
    "    b) Un data set cuyo orden este dado alfabeticamente por los lugares donde están las empresas"
   ]
  },
  {
   "cell_type": "code",
   "execution_count": null,
   "metadata": {},
   "outputs": [],
   "source": []
  },
  {
   "cell_type": "markdown",
   "metadata": {},
   "source": [
    "    c) Una función donde ingreses el index númerico y despliegue dichos datos de manera legible:\n",
    "    \n",
    "        Ejemplo: [In]: 0  [Out]: La empresa que reside en New York tiene un gato de Marketing de 471784.10 dólares mientras que sus ganancias son 192261.83 dólares..."
   ]
  },
  {
   "cell_type": "code",
   "execution_count": null,
   "metadata": {},
   "outputs": [],
   "source": []
  },
  {
   "cell_type": "markdown",
   "metadata": {},
   "source": [
    "4) Deberán cargar los datos de iris setosa de dos maneras:\n",
    "\n",
    "    a) Deberán dirigirse al repositorio del curso: https://github.com/adrishg/PythonML-PrebecariosProteco\n",
    "    De ahí a la carpeta de DataSets, ahí encontrarán el archivo iris.csv deben darle click para previsualizar el archivo. Ahí encontrarán un botón que dice Raw denle click y copien la liga, ese es el link raw y podrán exportarlo como lo hice en la parte de arriba con los datos de las empresas estadounidenses.\n",
    "    Desplieguen los datos con un describe para que revisen que se exporto bien.\n",
    "    \n",
    "    NOTA: También pueden aprovechar y seguirme en github, saludos.\n",
    "    \n",
    "![screenshot iris csv](https://drive.google.com/uc?id=1ytlucQdsbdnWsJmTG61eR7WQ_PBFNmCQ)\n",
    "    "
   ]
  },
  {
   "cell_type": "code",
   "execution_count": null,
   "metadata": {},
   "outputs": [],
   "source": []
  },
  {
   "cell_type": "markdown",
   "metadata": {},
   "source": [
    "    b) El dataset de Iris es muy conocido en el área ya que está precargado en sklearn.datasets. Pueden obtenerlo a partir de este, tendrán que investigarlo y exportar los datos."
   ]
  },
  {
   "cell_type": "code",
   "execution_count": null,
   "metadata": {},
   "outputs": [],
   "source": []
  },
  {
   "cell_type": "markdown",
   "metadata": {},
   "source": [
    "    c) Por último les recomiendo leer acerca de este dataset, lo usaremos bastante en clase."
   ]
  },
  {
   "cell_type": "markdown",
   "metadata": {},
   "source": [
    "5) En esta opción eres libre de poner cualquier función que use elementos y funciones de la librería pandas. \n",
    "    El requerimiento es que uses iloc, puedes usar alguno de los datasets cargados en esta libreta de jupyter.\n"
   ]
  },
  {
   "cell_type": "code",
   "execution_count": null,
   "metadata": {},
   "outputs": [],
   "source": []
  }
 ],
 "metadata": {
  "kernelspec": {
   "display_name": "Python 3",
   "language": "python",
   "name": "python3"
  },
  "language_info": {
   "codemirror_mode": {
    "name": "ipython",
    "version": 3
   },
   "file_extension": ".py",
   "mimetype": "text/x-python",
   "name": "python",
   "nbconvert_exporter": "python",
   "pygments_lexer": "ipython3",
   "version": "3.7.3"
  }
 },
 "nbformat": 4,
 "nbformat_minor": 2
}
