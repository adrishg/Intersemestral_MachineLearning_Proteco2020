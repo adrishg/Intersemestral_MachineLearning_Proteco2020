{
 "cells": [
  {
   "cell_type": "markdown",
   "metadata": {},
   "source": [
    "## 1. Serie Numpy \n",
    "\n",
    "Está es la primera de tres series de módulos científicos.\n",
    "\n",
    "Las indicaciones detalladas de la entrega de las series está en el Manual del curso, en resumen, deben editar cada libreta de jupyter (archivo ipynb, el mismo que usa google collaboratory),deje una casilla después de cada ejercicio para que puedan escribir su código. Deben subir a classroom el archivo ipynb y recuerden que TODAS LAS CASILLLAS DEBEN ESTAR EJECUTADAS al momento de que lo descarguen.\n",
    "\n",
    "Numpy es el módulo de \"Numerical Python\" y de los que más usaremos en el resto del curso, los siguientes ejercicios son de las funciones básicas de numpy, uso de arreglos y programación en general.\n",
    "\n",
    "\n",
    "Saludos."
   ]
  },
  {
   "cell_type": "code",
   "execution_count": 8,
   "metadata": {},
   "outputs": [],
   "source": [
    "#Importamos numpy con el alias np, a partir de ahora para llamar a métodos de numpy deben escribir np.metodoDeNumpy\n",
    "import numpy as np"
   ]
  },
  {
   "cell_type": "markdown",
   "metadata": {},
   "source": [
    "1) Crea un array de sietes cuyo atributo shape sea (10,3,2)"
   ]
  },
  {
   "cell_type": "code",
   "execution_count": null,
   "metadata": {},
   "outputs": [],
   "source": []
  },
  {
   "cell_type": "markdown",
   "metadata": {},
   "source": [
    "2) De dicho array despliega cual es su dimensión, tamaño del arreglo, tamaño un sólo elemento y tipo de dato de los elementos del arreglo."
   ]
  },
  {
   "cell_type": "code",
   "execution_count": null,
   "metadata": {},
   "outputs": [],
   "source": []
  },
  {
   "cell_type": "markdown",
   "metadata": {},
   "source": [
    "3) Crea los siguientes vectores usando funciones de numpy \n",
    "\n",
    "        a) Enteros del 0 al 9: \n",
    "        b) 20 valores entre el 1 y 10 espaciados uniformemente: \n",
    "        c) Enteros del 1 al 10: \n",
    "        d) Enteros del 5 al 100 con incrementos de 5 en 5: "
   ]
  },
  {
   "cell_type": "code",
   "execution_count": null,
   "metadata": {},
   "outputs": [],
   "source": []
  },
  {
   "cell_type": "markdown",
   "metadata": {},
   "source": [
    "4) Usaremos el vector del inciso d, despliega:\n",
    "       \n",
    "       a) Todos los elementos menos el primero\n",
    "       b) Todos los elementos menos el último\n",
    "       c) Todos los elementos en sentido inverso\n",
    "       d) Un elemento sí y un elemento no\n",
    "       e) Elemento número 15"
   ]
  },
  {
   "cell_type": "code",
   "execution_count": null,
   "metadata": {},
   "outputs": [],
   "source": []
  },
  {
   "cell_type": "markdown",
   "metadata": {},
   "source": [
    "5) Haz un vector de número aleatorios entre 0 y 1"
   ]
  },
  {
   "cell_type": "code",
   "execution_count": null,
   "metadata": {},
   "outputs": [],
   "source": []
  },
  {
   "cell_type": "markdown",
   "metadata": {},
   "source": [
    "6) Elabora una función que reciba número de filas y columnas y regrese un arreglo con dicho tamaño, con una distribución de 0 y 1 como tablero de ajedrez\n",
    "\n",
    "    Ejemplo: [In]: (3,6)  [Out]: array([[1., 0., 1., 0., 1., 0.],\n",
    "                                       [0., 1., 0., 1., 0., 1.],\n",
    "                                       [1., 0., 1., 0., 1., 0.]])"
   ]
  },
  {
   "cell_type": "code",
   "execution_count": null,
   "metadata": {},
   "outputs": [],
   "source": []
  },
  {
   "cell_type": "markdown",
   "metadata": {},
   "source": [
    "7) Realiza una función que encuentre el valor máximo y mínimo un arreglo 3x3 ."
   ]
  },
  {
   "cell_type": "code",
   "execution_count": null,
   "metadata": {},
   "outputs": [],
   "source": []
  },
  {
   "cell_type": "markdown",
   "metadata": {},
   "source": [
    "8) Realiza una función que encuentre el valor máximo y mínimo un arreglo 3x3 ."
   ]
  },
  {
   "cell_type": "code",
   "execution_count": null,
   "metadata": {},
   "outputs": [],
   "source": []
  },
  {
   "cell_type": "markdown",
   "metadata": {},
   "source": [
    "9) Implementa una función que encuentre el valor máximo en un arreglo 3x3 y regrese la posición de dicho valor (r,c) "
   ]
  },
  {
   "cell_type": "code",
   "execution_count": null,
   "metadata": {},
   "outputs": [],
   "source": []
  },
  {
   "cell_type": "markdown",
   "metadata": {},
   "source": [
    "10) Implementa una función que encuentre el valor mínimo en un arreglo 3x3 y regrese la posición de dicho valor (r,c) "
   ]
  },
  {
   "cell_type": "code",
   "execution_count": null,
   "metadata": {},
   "outputs": [],
   "source": []
  },
  {
   "cell_type": "markdown",
   "metadata": {},
   "source": [
    "11) Haz una función que reciba dos vectores y realice el producto cruz de ellos."
   ]
  },
  {
   "cell_type": "code",
   "execution_count": null,
   "metadata": {},
   "outputs": [],
   "source": []
  },
  {
   "cell_type": "markdown",
   "metadata": {},
   "source": [
    "12) Realiza otro vector que sea un paso por valor de un vector y comprueba que no es un paso por referencia. Explica cuál es la diferencia."
   ]
  },
  {
   "cell_type": "code",
   "execution_count": null,
   "metadata": {},
   "outputs": [],
   "source": []
  },
  {
   "cell_type": "markdown",
   "metadata": {},
   "source": [
    "13) Realiza una función que reciba una matriz un número n y genere una matriz identidad de nxn\n",
    "\n",
    "**NOTA**: No se puede usar la función identity de python, debe ser desde scratch\n",
    "\n",
    "        Ejemplo: [In]: 3       [Out]: [[1., 0., 0.],\n",
    "                                       [0., 1., 0.],\n",
    "                                       [0., 0., 1.]]"
   ]
  },
  {
   "cell_type": "code",
   "execution_count": null,
   "metadata": {},
   "outputs": [],
   "source": []
  },
  {
   "cell_type": "markdown",
   "metadata": {},
   "source": [
    "14) Escribe una función que reciba una matriz y regrese True sí es una matriz identidad y un False si no es así\n",
    "\n",
    "        Ejemplo: [In]:[[1., 0., 0., 0.],                  [Out]: True\n",
    "                       [0., 1., 0., 0.],\n",
    "                       [0., 0., 1., 0.],\n",
    "                       [0., 0., 0., 1.]]"
   ]
  },
  {
   "cell_type": "code",
   "execution_count": null,
   "metadata": {},
   "outputs": [],
   "source": []
  },
  {
   "cell_type": "markdown",
   "metadata": {},
   "source": [
    "15) Teniendo los siguientes vectores: \n",
    "\n",
    "        vector1= np.array([1,2,3,4]) \n",
    "        vector2= np.array([5,6,7,8])\n",
    "        \n",
    "        Realiza los siguientes matrices:\n",
    "            \n",
    "            a)[[1,2],\n",
    "               [3,4]]\n",
    "            b)[[1, 2, 3, 4],\n",
    "               [5, 6, 7, 8],\n",
    "               [1, 2, 3, 4],\n",
    "               [5, 6, 7, 8]]\n",
    "            c)[[1, 2, 3, 4, 1, 2, 3, 4],\n",
    "               [5, 6, 7, 8, 5, 6, 7, 8],\n",
    "               [1, 2, 3, 4, 1, 2, 3, 4],\n",
    "               [5, 6, 7, 8, 5, 6, 7, 8]]\n",
    "            d)[[1, 2, 3, 4, 1, 2, 3, 4],\n",
    "               [5, 6, 7, 8, 5, 6, 7, 8],\n",
    "               [1, 2, 3, 4, 1, 2, 3, 4],\n",
    "               [5, 6, 7, 8, 5, 6, 7, 8],\n",
    "               [1, 2, 3, 4, 1, 2, 3, 4],\n",
    "               [5, 6, 7, 8, 5, 6, 7, 8],\n",
    "               [1, 2, 3, 4, 1, 2, 3, 4],\n",
    "               [5, 6, 7, 8, 5, 6, 7, 8]]\n",
    "               \n",
    "**HINT**: vstack, hstack"
   ]
  },
  {
   "cell_type": "code",
   "execution_count": null,
   "metadata": {},
   "outputs": [],
   "source": []
  },
  {
   "cell_type": "markdown",
   "metadata": {},
   "source": [
    "16) Haz una función que reciba una matriz y luego que te regrese una matriz donde te de un True si el elemento es mayor que 100 y False si es menor\n",
    "\n",
    "    Ejemplo:  [In]: [[15, 85, 103, 444, 150, 200, 35, 47],      \n",
    "                     [532, 476, 0, 1011, 50, 674, 5, 999],\n",
    "                     [985, 7, 99, 101, 1, 58, 300, 78],\n",
    "                     [750, 649, 86, 8, 505, 41, 745, 187]]\n",
    "                     \n",
    "              [Out]:  [[False, False,  True,  True,  True,  True, False, False],\n",
    "                       [ True,  True, False,  True, False,  True, False,  True],\n",
    "                       [ True, False, False,  True, False, False,  True, False],\n",
    "                       [ True,  True, False, False,  True, False,  True,  True]]"
   ]
  },
  {
   "cell_type": "code",
   "execution_count": null,
   "metadata": {},
   "outputs": [],
   "source": [
    "\n"
   ]
  },
  {
   "cell_type": "markdown",
   "metadata": {},
   "source": [
    "17) Realiza una función que reciba dos arreglos de una dimensión y regrese un arreglo con los valores que no tienen en común los dos arreglos\n",
    "\n",
    "    Ejemplo: [In] vector1= np.array([3,6,9,12,15])             [Out]: [2,3,4,8,9,10.15]\n",
    "                  vector2= np.array([2,4,6,8,10,12])"
   ]
  },
  {
   "cell_type": "code",
   "execution_count": null,
   "metadata": {},
   "outputs": [],
   "source": []
  },
  {
   "cell_type": "markdown",
   "metadata": {},
   "source": [
    "18) Escribe una función que reciba un vector y regresé el promedio de todos los valores que hay en él."
   ]
  },
  {
   "cell_type": "code",
   "execution_count": null,
   "metadata": {},
   "outputs": [],
   "source": []
  },
  {
   "cell_type": "markdown",
   "metadata": {},
   "source": [
    "19) Implementa una función que reciba un vector con valores entre el 1 y 10 que pueden o no estar repetidos y que te regrese un vector con los valores únicos (no repetidos) de el vector recibido.\n",
    "\n",
    "        Ejemplo: [In]: [1, 2, 2, 2, 3, 3, 4, 5, 5, 5, 6, 6, 7, 8, 8, 9, 9, 9, 10, 10]\n",
    "                 [Out]: [1, 4, 7]"
   ]
  },
  {
   "cell_type": "code",
   "execution_count": null,
   "metadata": {},
   "outputs": [],
   "source": []
  },
  {
   "cell_type": "markdown",
   "metadata": {},
   "source": [
    "20) En esta opción eres libre de poner cualquier función que use elementos y funciones de la librería numpy. \n",
    "    Debes comentar que es lo que hace."
   ]
  },
  {
   "cell_type": "code",
   "execution_count": null,
   "metadata": {},
   "outputs": [],
   "source": []
  }
 ],
 "metadata": {
  "kernelspec": {
   "display_name": "Python 3",
   "language": "python",
   "name": "python3"
  },
  "language_info": {
   "codemirror_mode": {
    "name": "ipython",
    "version": 3
   },
   "file_extension": ".py",
   "mimetype": "text/x-python",
   "name": "python",
   "nbconvert_exporter": "python",
   "pygments_lexer": "ipython3",
   "version": "3.7.3"
  }
 },
 "nbformat": 4,
 "nbformat_minor": 2
}
