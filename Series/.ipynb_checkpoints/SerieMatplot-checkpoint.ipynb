{
 "cells": [
  {
   "cell_type": "markdown",
   "metadata": {},
   "source": [
    "## 3. Serie Matplotlib\n",
    "\n",
    "Esta es la tercera y última serie de módulos científicos.\n",
    "\n",
    "Matplotlib es uno de los módulos más usados para gráficar y crear todo tipo de visualizaciones en Python para realizar esta serie es posible que deban programar funciones simples, usen lo que ya aprendieron de numpy y pandas (Si quieren usar dichos módulos deberán cargarlos en esta libreta), lo que les será más útil será linspace o arange. No duden en crear dataFrames de pandas son muy cómodos para trabajar y gráficar con ellos.\n",
    "\n"
   ]
  },
  {
   "cell_type": "code",
   "execution_count": 9,
   "metadata": {},
   "outputs": [],
   "source": [
    "#% matplotlib notebook \n",
    "\n",
    "import matplotlib.pyplot as plt"
   ]
  },
  {
   "cell_type": "markdown",
   "metadata": {},
   "source": [
    "1) Realiza una gráfica con x contra x, x al cuadrado y x cúbica.\n",
    "\n",
    "![grafica x](https://drive.google.com/uc?id=1Jyag35ne8a3CqaJXzB_L3mlp3dA0VtI0)"
   ]
  },
  {
   "cell_type": "code",
   "execution_count": null,
   "metadata": {},
   "outputs": [],
   "source": []
  },
  {
   "cell_type": "markdown",
   "metadata": {},
   "source": [
    "2) Gráfica la función sen de manera que se vea parecido a la siguiente imagen(consideren la linea punteada y la cuadricula):\n",
    "\n",
    "![grafica sen](https://drive.google.com/uc?id=17YtToEcJ77wGKESFqyNLM7c5IelYLvyV)\n"
   ]
  },
  {
   "cell_type": "code",
   "execution_count": null,
   "metadata": {},
   "outputs": [],
   "source": []
  },
  {
   "cell_type": "markdown",
   "metadata": {},
   "source": [
    "3) A partir del siguiente diccionario despliega los datos como en la siguiente imagen. "
   ]
  },
  {
   "cell_type": "code",
   "execution_count": 6,
   "metadata": {},
   "outputs": [],
   "source": [
    "datosFrutas = {'Manzanas' : 11, 'Naranjas' :  15, 'Bananas' : 5, 'Guayabas' : 7}\n",
    "nombreFrutas = list(datosFrutas.keys())\n",
    "numeroFrutas = list(datosFrutas.values())"
   ]
  },
  {
   "cell_type": "markdown",
   "metadata": {},
   "source": [
    "\n",
    "![scatterplot cuadricula](https://drive.google.com/uc?id=1sugqSP4EvhYcmDZea1UQ0e-sQzoRiJZi)\n",
    "\n",
    "NOTA/HINT: Tomen en cuenta que se usaron subplots, hay muchas formas de hacerlo, les recomiento empezar por esto:\n"
   ]
  },
  {
   "cell_type": "code",
   "execution_count": 8,
   "metadata": {},
   "outputs": [
    {
     "data": {
      "text/plain": [
       "[<matplotlib.lines.Line2D at 0x7fceeba7fc88>]"
      ]
     },
     "execution_count": 8,
     "metadata": {},
     "output_type": "execute_result"
    },
    {
     "data": {
      "image/png": "[encoded data removed]",
      "text/plain": [
       "<Figure size 576x576 with 4 Axes>"
      ]
     },
     "metadata": {
      "needs_background": "light"
     },
     "output_type": "display_data"
    }
   ],
   "source": [
    "fig, ((ax1, ax2), (ax3, ax4)) = plt.subplots(2, 2, figsize = (8, 8), sharey = False)\n",
    "#ax1 será la gráfica de barras\n",
    "#ax2 será la gráfica de dispersión\n",
    "#ax3 será la gráfica simple de nombres x valores\n",
    "#ax4 será la gráfica de pastel\n",
    "\n",
    "\n",
    "ax3.plot(nombreFrutas, numeroFrutas)"
   ]
  },
  {
   "cell_type": "code",
   "execution_count": null,
   "metadata": {},
   "outputs": [],
   "source": []
  },
  {
   "cell_type": "markdown",
   "metadata": {},
   "source": [
    "\n"
   ]
  },
  {
   "cell_type": "markdown",
   "metadata": {},
   "source": [
    "4) Genera un vector con números aleatorios con la shape de 1000,2 esos datos corresponderán \"a\" x y \"y\".\n",
    "    Luego deberás desplegar los datos para que se vean de la siguiente manera: \n",
    "    ![scatterplot cuadricula](https://drive.google.com/uc?id=1pfrXDrwna6HEYrCw-Kf6kzBl4xptZbky)\n",
    "    \n",
    "    \n",
    "    HINT: Es posible hacer que el color de los puntos cambien según un valor númerico, así que les sugeriría que su vector inicial fuera 1000, 3 donde la tercera columna correspondiera a 0 o 1 valores que asignen según el cuadrante al que pertenece dicha coordenada. (Lo cuál se puede hacer con una función con un par de ifs) \n",
    "    HINT: para crear un vector con números aleatorios puedes hacer una función o simplemente implementarlo con  numpy.random.rand(numeroFilas,numeroColumnas) "
   ]
  },
  {
   "cell_type": "code",
   "execution_count": null,
   "metadata": {},
   "outputs": [],
   "source": []
  },
  {
   "cell_type": "markdown",
   "metadata": {},
   "source": [
    "5) Este inciso es libre debes realizar una gráfica que te parezca interesante, incluso te sugiero revisar la página de matplotlib donde tienen ejemplos, debes comentar tú código (:. Los mejores 3 tendrán un punto extra en las series."
   ]
  },
  {
   "cell_type": "code",
   "execution_count": null,
   "metadata": {},
   "outputs": [],
   "source": []
  }
 ],
 "metadata": {
  "kernelspec": {
   "display_name": "Python 3",
   "language": "python",
   "name": "python3"
  },
  "language_info": {
   "codemirror_mode": {
    "name": "ipython",
    "version": 3
   },
   "file_extension": ".py",
   "mimetype": "text/x-python",
   "name": "python",
   "nbconvert_exporter": "python",
   "pygments_lexer": "ipython3",
   "version": "3.7.3"
  }
 },
 "nbformat": 4,
 "nbformat_minor": 2
}
