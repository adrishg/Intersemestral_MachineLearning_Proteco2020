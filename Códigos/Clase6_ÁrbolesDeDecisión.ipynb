{
  "nbformat": 4,
  "nbformat_minor": 0,
  "metadata": {
    "colab": {
      "name": "Clase1-ÁrbolesDeClasificación.ipynb",
      "provenance": []
    },
    "kernelspec": {
      "name": "python3",
      "display_name": "Python 3"
    }
  },
  "cells": [
    {
      "cell_type": "code",
      "metadata": {
        "id": "ANrxAqdQI3Fp",
        "colab_type": "code",
        "colab": {}
      },
      "source": [
        "import numpy as np\n",
        "import pandas as pd\n",
        "import random\n",
        "from pprint import pprint"
      ],
      "execution_count": null,
      "outputs": []
    },
    {
      "cell_type": "code",
      "metadata": {
        "id": "zxBzWZjrJK3t",
        "colab_type": "code",
        "colab": {
          "base_uri": "https://localhost:8080/",
          "height": 195
        },
        "outputId": "fb52835d-08e8-470b-f322-ff593e3040b3"
      },
      "source": [
        "#1) Cargar los datos\n",
        "datosIris = pd.read_csv(\"https://raw.githubusercontent.com/adrishg/Intersemestral_MachineLearning_Proteco2020/master/DataSets/iris.csv\")\n",
        "datosIris = datosIris.drop(\"Id\", axis=1)\n",
        "encabezadoDeColumnas = datosIris.columns.tolist()#Crea lista encabezados\n",
        "datosIris.head()"
      ],
      "execution_count": null,
      "outputs": [
        {
          "output_type": "execute_result",
          "data": {
            "text/html": [
              "<div>\n",
              "<style scoped>\n",
              "    .dataframe tbody tr th:only-of-type {\n",
              "        vertical-align: middle;\n",
              "    }\n",
              "\n",
              "    .dataframe tbody tr th {\n",
              "        vertical-align: top;\n",
              "    }\n",
              "\n",
              "    .dataframe thead th {\n",
              "        text-align: right;\n",
              "    }\n",
              "</style>\n",
              "<table border=\"1\" class=\"dataframe\">\n",
              "  <thead>\n",
              "    <tr style=\"text-align: right;\">\n",
              "      <th></th>\n",
              "      <th>sepal_length</th>\n",
              "      <th>sepal_width</th>\n",
              "      <th>petal_length</th>\n",
              "      <th>petal_width</th>\n",
              "      <th>species</th>\n",
              "    </tr>\n",
              "  </thead>\n",
              "  <tbody>\n",
              "    <tr>\n",
              "      <th>0</th>\n",
              "      <td>5.1</td>\n",
              "      <td>3.5</td>\n",
              "      <td>1.4</td>\n",
              "      <td>0.2</td>\n",
              "      <td>Iris-setosa</td>\n",
              "    </tr>\n",
              "    <tr>\n",
              "      <th>1</th>\n",
              "      <td>4.9</td>\n",
              "      <td>3.0</td>\n",
              "      <td>1.4</td>\n",
              "      <td>0.2</td>\n",
              "      <td>Iris-setosa</td>\n",
              "    </tr>\n",
              "    <tr>\n",
              "      <th>2</th>\n",
              "      <td>4.7</td>\n",
              "      <td>3.2</td>\n",
              "      <td>1.3</td>\n",
              "      <td>0.2</td>\n",
              "      <td>Iris-setosa</td>\n",
              "    </tr>\n",
              "    <tr>\n",
              "      <th>3</th>\n",
              "      <td>4.6</td>\n",
              "      <td>3.1</td>\n",
              "      <td>1.5</td>\n",
              "      <td>0.2</td>\n",
              "      <td>Iris-setosa</td>\n",
              "    </tr>\n",
              "    <tr>\n",
              "      <th>4</th>\n",
              "      <td>5.0</td>\n",
              "      <td>3.6</td>\n",
              "      <td>1.4</td>\n",
              "      <td>0.2</td>\n",
              "      <td>Iris-setosa</td>\n",
              "    </tr>\n",
              "  </tbody>\n",
              "</table>\n",
              "</div>"
            ],
            "text/plain": [
              "   sepal_length  sepal_width  petal_length  petal_width      species\n",
              "0           5.1          3.5           1.4          0.2  Iris-setosa\n",
              "1           4.9          3.0           1.4          0.2  Iris-setosa\n",
              "2           4.7          3.2           1.3          0.2  Iris-setosa\n",
              "3           4.6          3.1           1.5          0.2  Iris-setosa\n",
              "4           5.0          3.6           1.4          0.2  Iris-setosa"
            ]
          },
          "metadata": {
            "tags": []
          },
          "execution_count": 2
        }
      ]
    },
    {
      "cell_type": "code",
      "metadata": {
        "id": "IaCXMRO1KF5m",
        "colab_type": "code",
        "colab": {}
      },
      "source": [
        "#2) Función que separa training set y test set\n",
        "def separacionDatosTesteo(datosIris, tamanioTest = 0.2):\n",
        "  if isinstance(tamanioTest, float):\n",
        "    tamanioTest = round(tamanioTest * len(datosIris))\n",
        "  \n",
        "  indices = datosIris.index.tolist()\n",
        "  testIndices = random.sample(population=indices, k=tamanioTest)\n",
        "\n",
        "  datosTesteo = datosIris.loc[testIndices]\n",
        "  datosEntrenamiento = datosIris.drop(testIndices)\n",
        "\n",
        "  return datosEntrenamiento, datosTesteo"
      ],
      "execution_count": null,
      "outputs": []
    },
    {
      "cell_type": "code",
      "metadata": {
        "id": "BonuSc1TLuxy",
        "colab_type": "code",
        "colab": {}
      },
      "source": [
        "datosEntrenamiento, datosTesteo = separacionDatosTesteo(datosIris)"
      ],
      "execution_count": null,
      "outputs": []
    },
    {
      "cell_type": "code",
      "metadata": {
        "id": "jLoQIb-bL9Up",
        "colab_type": "code",
        "colab": {}
      },
      "source": [
        "data = datosEntrenamiento.values\n",
        "#data"
      ],
      "execution_count": null,
      "outputs": []
    },
    {
      "cell_type": "code",
      "metadata": {
        "id": "MbDAxTRwMBBE",
        "colab_type": "code",
        "colab": {
          "base_uri": "https://localhost:8080/",
          "height": 34
        },
        "outputId": "3a3d7993-d24c-4d1b-e05f-929ccb5558f1"
      },
      "source": [
        "#3) Función para calcular pureza\n",
        "def calcularPureza(datos):\n",
        "  etiquetas = datos[:,-1] #Recuperan las etiquetas\n",
        "  etiquetasUnicas = np.unique(etiquetas) #Obtenemos etiquetas únicas\n",
        "  if len(etiquetasUnicas)==1:\n",
        "    return True\n",
        "  else:\n",
        "    return False\n",
        "\n",
        "calcularPureza(data)"
      ],
      "execution_count": null,
      "outputs": [
        {
          "output_type": "execute_result",
          "data": {
            "text/plain": [
              "False"
            ]
          },
          "metadata": {
            "tags": []
          },
          "execution_count": 6
        }
      ]
    },
    {
      "cell_type": "code",
      "metadata": {
        "id": "7OzIa2L-NaYS",
        "colab_type": "code",
        "colab": {}
      },
      "source": [
        "#4) Clasificar los datos por su etiqueta\n",
        "def clasificarDatos(data):\n",
        "  etiquetas=data[:,-1]\n",
        "  etiquetasUnicas, cuentaDeEtiquetasUnicas = np.unique(etiquetas, return_counts=True)\n",
        "  index = cuentaDeEtiquetasUnicas.argmax()\n",
        "  clasificacion = etiquetasUnicas[index]\n",
        "\n",
        "  return clasificacion"
      ],
      "execution_count": null,
      "outputs": []
    },
    {
      "cell_type": "code",
      "metadata": {
        "id": "1hxL8Vb5Oh8y",
        "colab_type": "code",
        "colab": {}
      },
      "source": [
        "#5) Encontrar separaciones posibles\n",
        "def separacionesPosibles(data):\n",
        "  separaciones = {}\n",
        "  x, numeroDeColumnas = data.shape\n",
        "  \n",
        "  for i in range(numeroDeColumnas-1):\n",
        "    separaciones[i] = []\n",
        "    valores = data[:,i]\n",
        "    valoresUnicos = np.unique(valores)\n",
        "\n",
        "    for indice in range(len(valoresUnicos)):\n",
        "      if indice != 0:\n",
        "        valorActual = valoresUnicos[indice]\n",
        "        valorAnterior = valoresUnicos[indice-1]\n",
        "        separacionPosible = (valorActual+valorAnterior)/2\n",
        "        \n",
        "        separaciones[i].append(separacionPosible)\n",
        "\n",
        "  return separaciones\n",
        "\n",
        "#separacionesPosibles(data)"
      ],
      "execution_count": null,
      "outputs": []
    },
    {
      "cell_type": "code",
      "metadata": {
        "id": "CMiyu2flRFle",
        "colab_type": "code",
        "colab": {}
      },
      "source": [
        "#6) Separe los datos\n",
        "def separarDatos(data, separadorColumna, separadorValor):\n",
        "  separarValoresColumnas = data[:,separadorColumna]\n",
        "  datosIzquierda = data[separarValoresColumnas <= separadorValor]\n",
        "  datosDerecha = data[separarValoresColumnas > separadorValor]\n",
        "\n",
        "  return datosIzquierda, datosDerecha"
      ],
      "execution_count": null,
      "outputs": []
    },
    {
      "cell_type": "code",
      "metadata": {
        "id": "_zyvUVy2SWu9",
        "colab_type": "code",
        "colab": {}
      },
      "source": [
        "#7) Calcular la entropía\n",
        "def calcularEntropia(datos):\n",
        "  etiquetas = datos[:,-1]\n",
        "  x, cuenta = np.unique(etiquetas, return_counts=True)\n",
        "  probabilidad = cuenta/cuenta.sum()\n",
        "  entropia = sum(probabilidad * -np.log2(probabilidad))\n",
        "  return entropia"
      ],
      "execution_count": null,
      "outputs": []
    },
    {
      "cell_type": "code",
      "metadata": {
        "id": "6NOLzJggTd2l",
        "colab_type": "code",
        "colab": {}
      },
      "source": [
        "#8) Calcular Entropía Total \n",
        "def calcularEntropiaTotal(datosIzquierda, datosDerecha):\n",
        "  n = len(datosIzquierda)+len(datosDerecha)\n",
        "  proporcionIzquierda = len(datosIzquierda)/n\n",
        "  proporcionDerecha = len(datosDerecha)/n\n",
        "\n",
        "  entropiaTotal = (proporcionIzquierda*calcularEntropia(datosIzquierda)+proporcionDerecha*calcularEntropia(datosDerecha))\n",
        "  return entropiaTotal"
      ],
      "execution_count": null,
      "outputs": []
    },
    {
      "cell_type": "code",
      "metadata": {
        "id": "U1zY1IDuU37D",
        "colab_type": "code",
        "colab": {}
      },
      "source": [
        "#9) Minimizar la entropía iterando sobre los posibles umbrales y las posibles\n",
        "#columnas (característica k)\n",
        "def mejorSeparacion(data, separaciones):\n",
        "  mejorSeparacion, mejorColumna = 0,0\n",
        "  entropia = calcularEntropiaTotal(*separarDatos(data, separadorColumna=0, separadorValor=0))\n",
        "  for i in separaciones: \n",
        "    for valor in separaciones[i]:\n",
        "      datosIzquierda, datosDerecha = separarDatos(data, separadorColumna=i, separadorValor=valor)\n",
        "      entropiaActualTotal = calcularEntropiaTotal(datosIzquierda, datosDerecha)\n",
        "      if entropiaActualTotal < entropia:\n",
        "        entropia = entropiaActualTotal\n",
        "        mejorColumna = i\n",
        "        mejorSeparacion = valor\n",
        "  return mejorColumna, mejorSeparacion"
      ],
      "execution_count": null,
      "outputs": []
    },
    {
      "cell_type": "code",
      "metadata": {
        "id": "GkAfxHmuXlE9",
        "colab_type": "code",
        "colab": {}
      },
      "source": [
        "#10) Función de arbolDeDecision(). Utiliza recursividad y manda a llamar a las demás funciones.\n",
        "def arbolDeDecision(data, contador=0, minMuestras=2, profundidadMaxima = 4):\n",
        "  datosIris = data\n",
        "  #Casos base:\n",
        "  #1)La función de pureza regresa un True\n",
        "  #2)Si el número de muestra es menor al mínimo(2)\n",
        "  #3)Que se alcance la profunidad máxima\n",
        "  if (calcularPureza(data)) or (len(data)<minMuestras) or (contador==profundidadMaxima):\n",
        "    clasificacion = clasificarDatos(data)\n",
        "    return clasificacion\n",
        "  else:\n",
        "    contador += 1\n",
        "    separaciones = separacionesPosibles(datosIris)\n",
        "    mejorColumna, mejorValorDeSeparacion = mejorSeparacion(datosIris, separaciones)\n",
        "    datosIzquierda, datosDerecha = separarDatos(datosIris, mejorColumna, mejorValorDeSeparacion)\n",
        "\n",
        "    pregunta = \"{} <= {}\".format(encabezadoDeColumnas[mejorColumna], mejorValorDeSeparacion)\n",
        "    subArbol = {pregunta: []}\n",
        "\n",
        "    si = arbolDeDecision(datosIzquierda, contador, minMuestras, profundidadMaxima)\n",
        "    no = arbolDeDecision(datosDerecha, contador, minMuestras, profundidadMaxima)\n",
        "\n",
        "    if si==no:\n",
        "      subArbol = si\n",
        "    else:\n",
        "      subArbol[pregunta].append(si)\n",
        "      subArbol[pregunta].append(no)\n",
        "    return subArbol"
      ],
      "execution_count": null,
      "outputs": []
    },
    {
      "cell_type": "code",
      "metadata": {
        "id": "QwLrILS4cWLx",
        "colab_type": "code",
        "colab": {
          "base_uri": "https://localhost:8080/",
          "height": 171
        },
        "outputId": "e7d11e21-4389-4674-d577-ce4e2bb4a8b3"
      },
      "source": [
        "arbol = arbolDeDecision(data)\n",
        "pprint(arbol)"
      ],
      "execution_count": null,
      "outputs": [
        {
          "output_type": "stream",
          "text": [
            "{'petal_length <= 2.5999999999999996': ['Iris-setosa',\n",
            "                                        {'petal_width <= 1.75': [{'petal_length <= 4.95': [{'sepal_length <= 4.95': ['Iris-virginica',\n",
            "                                                                                                                     'Iris-versicolor']},\n",
            "                                                                                           {'petal_width <= 1.55': ['Iris-virginica',\n",
            "                                                                                                                    'Iris-versicolor']}]},\n",
            "                                                                 {'petal_length <= 4.85': [{'sepal_length <= 5.95': ['Iris-versicolor',\n",
            "                                                                                                                     'Iris-virginica']},\n",
            "                                                                                           'Iris-virginica']}]}]}\n"
          ],
          "name": "stdout"
        }
      ]
    },
    {
      "cell_type": "code",
      "metadata": {
        "id": "fk3Eg2MTSA-q",
        "colab_type": "code",
        "colab": {
          "base_uri": "https://localhost:8080/",
          "height": 118
        },
        "outputId": "80c30509-bb91-4c9c-922e-81024db335b2"
      },
      "source": [
        "#Tomamos uno de los datos de testeo\n",
        "#Aquí se podría utilizar un índice aleatorio\n",
        "ejemplo = datosTesteo.iloc[0]\n",
        "ejemplo"
      ],
      "execution_count": null,
      "outputs": [
        {
          "output_type": "execute_result",
          "data": {
            "text/plain": [
              "sepal_length                  6\n",
              "sepal_width                 3.4\n",
              "petal_length                4.5\n",
              "petal_width                 1.6\n",
              "species         Iris-versicolor\n",
              "Name: 85, dtype: object"
            ]
          },
          "metadata": {
            "tags": []
          },
          "execution_count": 15
        }
      ]
    },
    {
      "cell_type": "code",
      "metadata": {
        "id": "0Ec_OdOmSM-L",
        "colab_type": "code",
        "colab": {
          "base_uri": "https://localhost:8080/",
          "height": 34
        },
        "outputId": "8822c0c7-ef58-491a-c84f-ae1066180b74"
      },
      "source": [
        "#Los datos de nuestra selección los pasamos a un diccionario \n",
        "diccionario= {'sepal_length': ejemplo[0], 'sepal_width': ejemplo[1], \n",
        "            'petal_length': ejemplo[2],'petal_width': ejemplo[3], \n",
        "            'species': ejemplo[4]}\n",
        "print(diccionario)"
      ],
      "execution_count": null,
      "outputs": [
        {
          "output_type": "stream",
          "text": [
            "{'sepal_length': 6.0, 'sepal_width': 3.4, 'petal_length': 4.5, 'petal_width': 1.6, 'species': 'Iris-versicolor'}\n"
          ],
          "name": "stdout"
        }
      ]
    },
    {
      "cell_type": "code",
      "metadata": {
        "id": "MNAaFaF9ScDT",
        "colab_type": "code",
        "colab": {
          "base_uri": "https://localhost:8080/",
          "height": 35
        },
        "outputId": "b394c4e5-7083-4e10-a208-adb57010d735"
      },
      "source": [
        "#Ahora intentaremos hacer que una predicción a partir de nuestro modelo.\n",
        "def ejemploClasificacion(ejemplo, arbol):\n",
        "  pregunta= list(arbol.keys())[0]#Obtiene la pregunta del arbol\n",
        "  nombreCaracteristica, operador, valor = pregunta.split(\" \")#Utilizando los espacios obtiene esas variables\n",
        "  if ejemplo[nombreCaracteristica] <= float(valor):#Realiza un casteo para generar la pregunta\n",
        "    respuesta= arbol[pregunta][0]#Se da la respuesta si la condición es cierta\n",
        "  else:\n",
        "    respuesta= arbol[pregunta][1]#Se da la respuesta si la condición es falsa\n",
        "\n",
        "  #Si el valor de la respuesta que se tiene es otro diccionario se llama recursivamente a esta función\n",
        "  #Dejaremos de llamar recursivamente hasta llegar a un nodo hoja donde estará la predicción\n",
        "  if not isinstance(respuesta, dict):\n",
        "    return respuesta #Si la respuesta no es un diccionario regrésala\n",
        "  else:\n",
        "    restoDelArbol = respuesta \n",
        "    return ejemploClasificacion(ejemplo, restoDelArbol)#Llamada recursiva\n",
        "\n",
        "ejemploClasificacion(diccionario, arbol)"
      ],
      "execution_count": null,
      "outputs": [
        {
          "output_type": "execute_result",
          "data": {
            "application/vnd.google.colaboratory.intrinsic+json": {
              "type": "string"
            },
            "text/plain": [
              "'Iris-versicolor'"
            ]
          },
          "metadata": {
            "tags": []
          },
          "execution_count": 18
        }
      ]
    },
    {
      "cell_type": "code",
      "metadata": {
        "id": "YG3FAEi-czqB",
        "colab_type": "code",
        "colab": {}
      },
      "source": [
        "from sklearn.datasets import load_iris\n",
        "from sklearn import tree\n",
        "x, y = load_iris(return_X_y=True)\n",
        "clf = tree.DecisionTreeClassifier()\n",
        "clf = clf.fit(x,y)"
      ],
      "execution_count": null,
      "outputs": []
    },
    {
      "cell_type": "code",
      "metadata": {
        "id": "PCSwnkq0cbmA",
        "colab_type": "code",
        "colab": {
          "base_uri": "https://localhost:8080/",
          "height": 534
        },
        "outputId": "fba71840-e360-43fb-94d8-ff44cb19c251"
      },
      "source": [
        "tree.plot_tree(clf)"
      ],
      "execution_count": null,
      "outputs": [
        {
          "output_type": "execute_result",
          "data": {
            "text/plain": [
              "[Text(167.4, 199.32, 'X[2] <= 2.45\\ngini = 0.667\\nsamples = 150\\nvalue = [50, 50, 50]'),\n",
              " Text(141.64615384615385, 163.07999999999998, 'gini = 0.0\\nsamples = 50\\nvalue = [50, 0, 0]'),\n",
              " Text(193.15384615384616, 163.07999999999998, 'X[3] <= 1.75\\ngini = 0.5\\nsamples = 100\\nvalue = [0, 50, 50]'),\n",
              " Text(103.01538461538462, 126.83999999999999, 'X[2] <= 4.95\\ngini = 0.168\\nsamples = 54\\nvalue = [0, 49, 5]'),\n",
              " Text(51.50769230769231, 90.6, 'X[3] <= 1.65\\ngini = 0.041\\nsamples = 48\\nvalue = [0, 47, 1]'),\n",
              " Text(25.753846153846155, 54.359999999999985, 'gini = 0.0\\nsamples = 47\\nvalue = [0, 47, 0]'),\n",
              " Text(77.26153846153846, 54.359999999999985, 'gini = 0.0\\nsamples = 1\\nvalue = [0, 0, 1]'),\n",
              " Text(154.52307692307693, 90.6, 'X[3] <= 1.55\\ngini = 0.444\\nsamples = 6\\nvalue = [0, 2, 4]'),\n",
              " Text(128.76923076923077, 54.359999999999985, 'gini = 0.0\\nsamples = 3\\nvalue = [0, 0, 3]'),\n",
              " Text(180.27692307692308, 54.359999999999985, 'X[2] <= 5.45\\ngini = 0.444\\nsamples = 3\\nvalue = [0, 2, 1]'),\n",
              " Text(154.52307692307693, 18.119999999999976, 'gini = 0.0\\nsamples = 2\\nvalue = [0, 2, 0]'),\n",
              " Text(206.03076923076924, 18.119999999999976, 'gini = 0.0\\nsamples = 1\\nvalue = [0, 0, 1]'),\n",
              " Text(283.2923076923077, 126.83999999999999, 'X[2] <= 4.85\\ngini = 0.043\\nsamples = 46\\nvalue = [0, 1, 45]'),\n",
              " Text(257.53846153846155, 90.6, 'X[1] <= 3.1\\ngini = 0.444\\nsamples = 3\\nvalue = [0, 1, 2]'),\n",
              " Text(231.7846153846154, 54.359999999999985, 'gini = 0.0\\nsamples = 2\\nvalue = [0, 0, 2]'),\n",
              " Text(283.2923076923077, 54.359999999999985, 'gini = 0.0\\nsamples = 1\\nvalue = [0, 1, 0]'),\n",
              " Text(309.04615384615386, 90.6, 'gini = 0.0\\nsamples = 43\\nvalue = [0, 0, 43]')]"
            ]
          },
          "metadata": {
            "tags": []
          },
          "execution_count": 20
        },
        {
          "output_type": "display_data",
          "data": {
            "image/png": "[encoded data removed]",
            "text/plain": [
              "<Figure size 432x288 with 1 Axes>"
            ]
          },
          "metadata": {
            "tags": [],
            "needs_background": "light"
          }
        }
      ]
    },
    {
      "cell_type": "code",
      "metadata": {
        "id": "1UlZAGhTees8",
        "colab_type": "code",
        "colab": {}
      },
      "source": [
        ""
      ],
      "execution_count": null,
      "outputs": []
    }
  ]
}
