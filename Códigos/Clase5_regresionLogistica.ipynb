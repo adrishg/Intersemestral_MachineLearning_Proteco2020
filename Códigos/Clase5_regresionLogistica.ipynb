{
  "nbformat": 4,
  "nbformat_minor": 0,
  "metadata": {
    "colab": {
      "name": "Clase5-regresionLogistica.ipynb",
      "provenance": [],
      "collapsed_sections": []
    },
    "kernelspec": {
      "name": "python3",
      "display_name": "Python 3"
    }
  },
  "cells": [
    {
      "cell_type": "markdown",
      "metadata": {
        "id": "PkeAs9zUyHbN",
        "colab_type": "text"
      },
      "source": [
        "# Regresión Logistica\n"
      ]
    },
    {
      "cell_type": "code",
      "metadata": {
        "id": "zLLZRBvmyLmO",
        "colab_type": "code",
        "colab": {}
      },
      "source": [
        "import numpy as np\n",
        "import pandas as pd\n",
        "import matplotlib.pyplot as plt"
      ],
      "execution_count": 1,
      "outputs": []
    },
    {
      "cell_type": "code",
      "metadata": {
        "id": "MAW55QI3x6Qc",
        "colab_type": "code",
        "colab": {
          "base_uri": "https://localhost:8080/",
          "height": 195
        },
        "outputId": "7c0fb892-e14f-4469-ad1a-647c30d6496d"
      },
      "source": [
        "url = \"https://raw.githubusercontent.com/adrishg/Intersemestral_MachineLearning_Proteco2020/master/DataSets/datosRegresion.csv\"\n",
        "datos = pd.read_csv(url, names=['x1','x2','y'])\n",
        "datos.head()"
      ],
      "execution_count": 2,
      "outputs": [
        {
          "output_type": "execute_result",
          "data": {
            "text/html": [
              "<div>\n",
              "<style scoped>\n",
              "    .dataframe tbody tr th:only-of-type {\n",
              "        vertical-align: middle;\n",
              "    }\n",
              "\n",
              "    .dataframe tbody tr th {\n",
              "        vertical-align: top;\n",
              "    }\n",
              "\n",
              "    .dataframe thead th {\n",
              "        text-align: right;\n",
              "    }\n",
              "</style>\n",
              "<table border=\"1\" class=\"dataframe\">\n",
              "  <thead>\n",
              "    <tr style=\"text-align: right;\">\n",
              "      <th></th>\n",
              "      <th>x1</th>\n",
              "      <th>x2</th>\n",
              "      <th>y</th>\n",
              "    </tr>\n",
              "  </thead>\n",
              "  <tbody>\n",
              "    <tr>\n",
              "      <th>0</th>\n",
              "      <td>-0.017612</td>\n",
              "      <td>14.053064</td>\n",
              "      <td>0</td>\n",
              "    </tr>\n",
              "    <tr>\n",
              "      <th>1</th>\n",
              "      <td>-1.395634</td>\n",
              "      <td>4.662541</td>\n",
              "      <td>1</td>\n",
              "    </tr>\n",
              "    <tr>\n",
              "      <th>2</th>\n",
              "      <td>-0.752157</td>\n",
              "      <td>6.538620</td>\n",
              "      <td>0</td>\n",
              "    </tr>\n",
              "    <tr>\n",
              "      <th>3</th>\n",
              "      <td>-1.322371</td>\n",
              "      <td>7.152853</td>\n",
              "      <td>0</td>\n",
              "    </tr>\n",
              "    <tr>\n",
              "      <th>4</th>\n",
              "      <td>0.423363</td>\n",
              "      <td>11.054677</td>\n",
              "      <td>0</td>\n",
              "    </tr>\n",
              "  </tbody>\n",
              "</table>\n",
              "</div>"
            ],
            "text/plain": [
              "         x1         x2  y\n",
              "0 -0.017612  14.053064  0\n",
              "1 -1.395634   4.662541  1\n",
              "2 -0.752157   6.538620  0\n",
              "3 -1.322371   7.152853  0\n",
              "4  0.423363  11.054677  0"
            ]
          },
          "metadata": {
            "tags": []
          },
          "execution_count": 2
        }
      ]
    },
    {
      "cell_type": "code",
      "metadata": {
        "id": "npE58o_D1e3J",
        "colab_type": "code",
        "colab": {
          "base_uri": "https://localhost:8080/",
          "height": 265
        },
        "outputId": "64a83b60-8613-4b4c-830b-96ab9e221bbd"
      },
      "source": [
        "X1= datos.x1.values\n",
        "X2= datos.x2.values\n",
        "X= datos.iloc[:,:-1].values\n",
        "Y= datos.y.values\n",
        "\n",
        "\n",
        "plt.scatter(X1,X2,c=Y)\n",
        "plt.show()"
      ],
      "execution_count": 3,
      "outputs": [
        {
          "output_type": "display_data",
          "data": {
            "image/png": "[encoded data removed]",
            "text/plain": [
              "<Figure size 432x288 with 1 Axes>"
            ]
          },
          "metadata": {
            "tags": [],
            "needs_background": "light"
          }
        }
      ]
    },
    {
      "cell_type": "code",
      "metadata": {
        "id": "hnZ6tmnc2EcA",
        "colab_type": "code",
        "colab": {}
      },
      "source": [
        "def separacionDatos(X,Y,tamanioTest=0.2):\n",
        "  m= Y.size\n",
        "  testTamanio = int(m*tamanioTest)\n",
        "  indicesTest= np.random.choice(m,testTamanio)\n",
        "  #setdiff1d regresa un vector con elementos que estan el parametro uno y no en el parametro dos\n",
        "  indicesEntrenamiento = np.setdiff1d(np.arange(m),indicesTest)\n",
        "  return X[indicesTest], Y[indicesTest], X[indicesEntrenamiento], Y[indicesEntrenamiento]"
      ],
      "execution_count": 4,
      "outputs": []
    },
    {
      "cell_type": "code",
      "metadata": {
        "id": "qnueyFmw3h6Z",
        "colab_type": "code",
        "colab": {}
      },
      "source": [
        "def sigmoide(X):\n",
        "  return 1/(1+ np.exp(-X)) #El error estaba nada más y nada menos que aquí, faltaban los paréntesis"
      ],
      "execution_count": 11,
      "outputs": []
    },
    {
      "cell_type": "code",
      "metadata": {
        "id": "JJ-wOaKU3s6e",
        "colab_type": "code",
        "colab": {}
      },
      "source": [
        "def funcionHipotesis(X,theta):\n",
        "  return sigmoide(X@theta)"
      ],
      "execution_count": 6,
      "outputs": []
    },
    {
      "cell_type": "code",
      "metadata": {
        "id": "jYU-xVMv2hTK",
        "colab_type": "code",
        "colab": {}
      },
      "source": [
        "def funcionDeCosto(X, Y, theta):\n",
        "  h= funcionHipotesis(X, theta)\n",
        "  izq= -Y* np.log(h)\n",
        "  der = -(1-Y)* np.log(1-h)\n",
        "  j=sum(izq+der)\n",
        "  return j"
      ],
      "execution_count": 7,
      "outputs": []
    },
    {
      "cell_type": "code",
      "metadata": {
        "id": "OiJ6X58y7HRB",
        "colab_type": "code",
        "colab": {}
      },
      "source": [
        "def gradienteCosto(X,Y,theta):\n",
        "  m= Y.size\n",
        "  h = funcionHipotesis(X, theta)\n",
        "  dj= ((h-Y)@X) /m\n",
        "  return dj"
      ],
      "execution_count": 8,
      "outputs": []
    },
    {
      "cell_type": "code",
      "metadata": {
        "id": "ZJXNEFVo4cXy",
        "colab_type": "code",
        "colab": {}
      },
      "source": [
        "def gradienteDescenso(X,Y, alfa, E=0.001):\n",
        "  m= Y.size\n",
        "  X = np.hstack([np.ones([m,1]),X])\n",
        "  n = X.shape[1]\n",
        "\n",
        "  theta = np.zeros([n])\n",
        "\n",
        "\n",
        "  costoAnterior= funcionDeCosto(X,Y,theta)\n",
        "  theta = theta- alfa*gradienteCosto(X,Y,theta)\n",
        "  costoActual= funcionDeCosto(X,Y,theta)\n",
        "\n",
        "  diferencia = abs(costoAnterior - costoActual)\n",
        "\n",
        "  iteraciones=[0,1]\n",
        "  yCostos=[costoAnterior, costoActual]\n",
        "  i=2\n",
        "\n",
        "  while diferencia> E:\n",
        "    costoAnterior= funcionDeCosto(X,Y,theta)\n",
        "    theta = theta- alfa*gradienteCosto(X,Y,theta)\n",
        "    costoActual= funcionDeCosto(X,Y,theta)\n",
        "\n",
        "    diferencia = abs(costoAnterior - costoActual)\n",
        "\n",
        "    iteraciones.append(i)\n",
        "    yCostos.append(costoActual)\n",
        "    i=i+1\n",
        "\n",
        "  plt.plot(iteraciones, yCostos)\n",
        "  plt.title(\"Costos vs Iteraciones\")\n",
        "  plt.xlabel(\"Iteraciones\")\n",
        "  plt.ylabel(\"Costo\")\n",
        "\n",
        "  print(\"Último costo:\",yCostos[-1])\n",
        "  plt.show()\n",
        "  return theta\n"
      ],
      "execution_count": 9,
      "outputs": []
    },
    {
      "cell_type": "code",
      "metadata": {
        "id": "ho0-nsj-6yzb",
        "colab_type": "code",
        "colab": {
          "base_uri": "https://localhost:8080/",
          "height": 312
        },
        "outputId": "a5f087be-4c3a-4ea6-bb52-3594bc25fc2a"
      },
      "source": [
        "xTest, yTest, xEntrenamiento, yEntrenamiento = separacionDatos(X,Y)\n",
        "alfa = 0.1\n",
        "theta = gradienteDescenso(xEntrenamiento, yEntrenamiento, alfa)"
      ],
      "execution_count": 12,
      "outputs": [
        {
          "output_type": "stream",
          "text": [
            "Último costo: 8.951551056010269\n"
          ],
          "name": "stdout"
        },
        {
          "output_type": "display_data",
          "data": {
            "image/png": "[encoded data removed]",
            "text/plain": [
              "<Figure size 432x288 with 1 Axes>"
            ]
          },
          "metadata": {
            "tags": [],
            "needs_background": "light"
          }
        }
      ]
    },
    {
      "cell_type": "code",
      "metadata": {
        "id": "klHyeHaOcKJb",
        "colab_type": "code",
        "colab": {
          "base_uri": "https://localhost:8080/",
          "height": 265
        },
        "outputId": "f915a305-33af-46da-92f3-4f01e7d901d2"
      },
      "source": [
        "plt.scatter(X1,X2,c=Y)\n",
        "x = np.linspace(-4, 4, 3)\n",
        "y = - (theta[0] + x * theta[1]) / theta[2]\n",
        "plt.plot(x, y, 'r')\n",
        "plt.show()"
      ],
      "execution_count": 14,
      "outputs": [
        {
          "output_type": "display_data",
          "data": {
            "image/png": "[encoded data removed]",
            "text/plain": [
              "<Figure size 432x288 with 1 Axes>"
            ]
          },
          "metadata": {
            "tags": [],
            "needs_background": "light"
          }
        }
      ]
    }
  ]
}