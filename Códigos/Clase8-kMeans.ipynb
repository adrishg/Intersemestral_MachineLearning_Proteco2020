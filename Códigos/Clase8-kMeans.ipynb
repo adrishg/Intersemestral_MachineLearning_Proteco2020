{
 "cells": [
  {
   "cell_type": "markdown",
   "metadata": {},
   "source": [
    "# K-means con iris dataset desde scratch\n",
    "Vamos a trabajar solo con los datos ancho y largo de pétalo.\n",
    "\n",
    "Comenzamos graficando el dataset etiquetado."
   ]
  },
  {
   "cell_type": "code",
   "execution_count": 1,
   "metadata": {},
   "outputs": [
    {
     "data": {
      "text/plain": [
       "<Figure size 640x480 with 1 Axes>"
      ]
     },
     "metadata": {},
     "output_type": "display_data"
    }
   ],
   "source": [
    "from sklearn import datasets\n",
    "import pandas as pd\n",
    "import numpy as np\n",
    "import matplotlib.pyplot as plt\n",
    "\n",
    "iris = datasets.load_iris()\n",
    "iris_df = pd.DataFrame(iris['data'], columns=iris['feature_names'])\n",
    "iris_df['especies'] = iris['target']\n",
    "colores = ['green', 'blue', 'orange']\n",
    "especies = ['Iris setosa', 'Iris versicolor', 'Iris virginica']\n",
    "marcador=['o','s','^']\n",
    "\n",
    "\n",
    "for i in range(0, 3):    \n",
    "    especies_df = iris_df[iris_df['especies'] == i]    \n",
    "    plt.scatter(especies_df['petal length (cm)'], especies_df['petal width (cm)'], color=colores[i], label=especies[i], marker=marcador[i])\n",
    "\n",
    "plt.xlabel('Longitud petalo (cm)')\n",
    "plt.ylabel('Ancho petalo (cm)')\n",
    "plt.title('Iris dataset')\n",
    "plt.legend()\n",
    "\n",
    "plt.show()"
   ]
  },
  {
   "cell_type": "markdown",
   "metadata": {},
   "source": [
    "Si quitamos las etiquetas tenemos algo como lo siguiente."
   ]
  },
  {
   "cell_type": "code",
   "execution_count": 2,
   "metadata": {},
   "outputs": [
    {
     "data": {
      "image/png": "[encoded data removed]",
      "text/plain": [
       "<Figure size 432x288 with 1 Axes>"
      ]
     },
     "metadata": {
      "needs_background": "light"
     },
     "output_type": "display_data"
    }
   ],
   "source": [
    "plt.scatter(iris_df['petal length (cm)'], iris_df['petal width (cm)'])\n",
    "plt.show()"
   ]
  },
  {
   "cell_type": "markdown",
   "metadata": {},
   "source": [
    "Acondicionamos los datos para ingresarlos a nuestro algoritmo"
   ]
  },
  {
   "cell_type": "code",
   "execution_count": 3,
   "metadata": {},
   "outputs": [],
   "source": [
    "longitud_petalo=list(iris_df['petal length (cm)'])\n",
    "ancho_petalo=list(iris_df['petal width (cm)'])\n",
    "\n",
    "lista_datos_petalos= [list(x) for x in zip(longitud_petalo,ancho_petalo)]\n",
    "#trabajamos los datos como un arreglo de numpy con shape [150,2]\n",
    "datos_petalos= np.array(lista_datos_petalos)"
   ]
  },
  {
   "cell_type": "markdown",
   "metadata": {},
   "source": [
    "Definimos la funcion para obtener la distancia euclidiana la cual será una funcion global."
   ]
  },
  {
   "cell_type": "code",
   "execution_count": 4,
   "metadata": {},
   "outputs": [],
   "source": [
    "def distancia_euclidiana(x1, x2):\n",
    "    return np.sqrt(np.sum((x1 - x2)**2))"
   ]
  },
  {
   "cell_type": "markdown",
   "metadata": {},
   "source": [
    "Comenzamos con la implementación del algoritmo K-means"
   ]
  },
  {
   "cell_type": "code",
   "execution_count": 5,
   "metadata": {},
   "outputs": [],
   "source": [
    "class K_Means():\n",
    "\n",
    "    def __init__(self, k=5, iteraciones_max=100, paso_grafica=False):\n",
    "        self.k = k #Numero de clusters, por defecto 5\n",
    "        self.iteraciones_max = iteraciones_max #Numero máximo de iteraciones\n",
    "        self.paso_grafica = paso_grafica #Quiero ver cada paso? Es decir cada gráfica de cada iteracion\n",
    "\n",
    "        self.clusters = [[] for i in range(self.k)] #Almacenamos los clusters\n",
    "        self.centroides = [] #Almacenamos los centroides\n",
    "\n",
    "    #No tenemos método fit porque al ser aprendizaje no supervisado no necesitamos etiquetas\n",
    "    def predict(self, datos):\n",
    "        self.datos = datos #Datos\n",
    "        self.numero_datos, self.numero_columnas = datos.shape #Dimensiones [150,2]\n",
    "        \n",
    "        #Inicializamos los centroides aleatorios\n",
    "        #Elegimos indices aleatorios de numero_datos\n",
    "        indices_aleatorios = np.random.choice(self.numero_datos, self.k, replace=False) #Arreglo de tamaño k, replace=False porque no queremos datos repetidos\n",
    "        self.centroides = [self.datos[indice] for indice in indices_aleatorios] #Lista con 3 parejas de numeros salidos de nuestros datos\n",
    "\n",
    "        # Optimizamos los clusters\n",
    "        # Un ciclo for que hace las iteraciones que le indiquemos \n",
    "        for i in range(self.iteraciones_max):\n",
    "            # Assign samples to closest centroides (create clusters)\n",
    "            self.clusters = self.crear_clusters(self.centroides)\n",
    "            \n",
    "            if self.paso_grafica:\n",
    "                self.visulaizar()\n",
    "\n",
    "            #Una vez creados los clusters hasy que sacar la media de las distancias y asignar un nuevo centroide \n",
    "            #Guardamos los datos anteriores en una variable\n",
    "            centroides_anteriores = self.centroides\n",
    "            #Asignamos los centroides calculados a nuestra variable\n",
    "            self.centroides = self.obtener_centroides_calculados(self.clusters)\n",
    "            \n",
    "            # revisamos si nuestro algoritmo ya convergió\n",
    "            #en caso afirmativo terminamos el algoritmo\n",
    "            if self.convergencia(centroides_anteriores, self.centroides):\n",
    "                break\n",
    "\n",
    "            if self.paso_grafica:\n",
    "                self.visulaizar()\n",
    "\n",
    "        # Obtenemos la etiqueta del cluster al cual fue asignado\n",
    "        return self.obtener_etiquetas_clusters(self.clusters)\n",
    "\n",
    "    #Funcion que nos regresa la etiqueta del cluster al que fue asignado cada dato\n",
    "    def obtener_etiquetas_clusters(self, clusters):\n",
    "        #hacemos un arreglo vacio de tamaño del numero de datos que tenemos\n",
    "        #Es decir el indice del cluster al que fue asignado\n",
    "        etiquetas = np.empty(self.numero_datos)\n",
    "\n",
    "        #recorremos el arreglo clusters el cual contiene los indices de los elementos en cada cluster\n",
    "        #es una lista de listas\n",
    "        for indice_cluster, cluster in enumerate(clusters):\n",
    "            #recorremos cada indice \n",
    "            for indice_muestra in cluster:\n",
    "                #Metemos las etiquetas de cada pareja de datos\n",
    "                etiquetas[indice_muestra] = indice_cluster\n",
    "        return etiquetas\n",
    "\n",
    "    #En esta funcion asignamos los puntos al centroide más cercano\n",
    "    def crear_clusters(self, centroides):\n",
    "        #Lista que contendra lis indices de los elementos de cada cluster\n",
    "        clusters = [[] for i in range(self.k)]\n",
    "        #enumerate le ponde un indice visible a cada dato en datos\n",
    "        # (0,[2,4]),(1,[3,8])\n",
    "        for indice, muestra in enumerate(self.datos):\n",
    "            #Asignamos a indice_centroide el centroide más cercano utilizando la funcion que calcula la distancia entre los puntos\n",
    "            #A la fucion le pasamos los puntos y los centroides\n",
    "            indice_centroide = self.centroide_cercano(muestra, centroides)\n",
    "            #En nuestra lista clusters agregamos cada indice\n",
    "            clusters[indice_centroide].append(indice)\n",
    "        return clusters\n",
    "\n",
    "    #En esta funcion calculamos la distancia de cad apunto a su centroide \n",
    "    def centroide_cercano(self, muestra, centroides):\n",
    "        #Calculamos las distancias euclidianas a los puntos y las guardamos en una lsita de nombre distancias\n",
    "        distancias = [distancia_euclidiana(muestra, punto) for punto in centroides]\n",
    "        #Con argmin seleccionamos el indice del valor más bajo en distancias y lo guardamos en centroide_indice_cercano\n",
    "        centroide_indice_cercano = np.argmin(distancias)\n",
    "        #Regresamos el indice\n",
    "        return centroide_indice_cercano\n",
    "\n",
    "    #Funcion que calcula la media de las distancias y asigna los centroides calculados\n",
    "    def obtener_centroides_calculados(self, clusters):\n",
    "        #centroides es un arreglo lleno de ceros de tamaño 3 y dos columnas\n",
    "        # [[x,y],[x,y],[x,y]]\n",
    "        centroides = np.zeros((self.k, self.numero_columnas))\n",
    "        #Enumeramos cada cluster y lo iteramos\n",
    "        #recordemos que clusters es una lista de listas \n",
    "        for indice_cluster, cluster in enumerate(clusters):\n",
    "            #cluster es una lista de los indices de los elementos pertenecientes al cluster \n",
    "            #con np.mean() calculamos la media \n",
    "            #usamos datos[cluster] para llamar a la pareja de datos de la cual se sacará la media\n",
    "            promedio_cluster = np.mean(self.datos[cluster], axis=0)\n",
    "            #una vez calculada la media de cada cluster se lo asignamos a los centroides\n",
    "            centroides[indice_cluster] = promedio_cluster\n",
    "        return centroides\n",
    "\n",
    "    #funcion que revisa la convergencia de los centroides\n",
    "    #Es decir cuando la distancia entre centroides_anteriores y centroides es 0\n",
    "    def convergencia(self, centroides_anteriores, centroides):\n",
    "        #asignamos a un arreglo de distancias \n",
    "        distancias = [distancia_euclidiana(centroides_anteriores[i], centroides[i]) for i in range(self.k)]\n",
    "        #sumamos el arreglo y si es 0 entonces nuestro algoritmo convergió\n",
    "        #regresa un true o false\n",
    "        return sum(distancias) == 0\n",
    "\n",
    "    def visulaizar(self):\n",
    "        self.fig= plt.figure()\n",
    "        self.ax = self.fig.add_subplot(1,1,1)\n",
    "\n",
    "        for i, indice in enumerate(self.clusters):\n",
    "            #print(self.datos[indice])\n",
    "            #print('**********************')\n",
    "            #print(self.datos[indice])\n",
    "            # Utilizar el .T divide nuestra lista de listas inicial en dos listas separadas\n",
    "            punto = self.datos[indice].T\n",
    "            \n",
    "            #Utilizar *punto le dice a nuestra funcion que le estamos pasando una lista con x y otra con y \n",
    "            #dentro de la misma variable\n",
    "            self.ax.scatter(*punto)\n",
    "            \n",
    "        for punto in self.centroides:\n",
    "            self.ax.scatter(*punto, marker=\"x\", color='black', linewidth=2)\n",
    "            \n",
    "        plt.xlabel('Longitud del petalo')\n",
    "        plt.ylabel('Ancho del petalo')\n",
    "        plt.show()\n",
    "    \n",
    "        \n"
   ]
  },
  {
   "cell_type": "markdown",
   "metadata": {},
   "source": [
    "Creamos la instancia de nuestro algoritmo y lo probamos."
   ]
  },
  {
   "cell_type": "code",
   "execution_count": 6,
   "metadata": {},
   "outputs": [
    {
     "data": {
      "image/png": "[encoded data removed]",
      "text/plain": [
       "<Figure size 432x288 with 1 Axes>"
      ]
     },
     "metadata": {
      "needs_background": "light"
     },
     "output_type": "display_data"
    }
   ],
   "source": [
    "kMeans=K_Means(k=3, iteraciones_max=10, paso_grafica=False)\n",
    "kMeans.predict(datos_petalos)\n",
    "kMeans.visulaizar()"
   ]
  },
  {
   "cell_type": "markdown",
   "metadata": {},
   "source": [
    "## ¿Qué pasa si no tenemos el número de clusters?\n",
    "El metodo elbow o gráfica de codo nos permite determinar el número adecuado de clusters para que nuestras distancias a los centroides no sean ni muy grandes ni muy pequeñas.\n",
    "\n",
    "Este método consiste en correr el algoritmo de k-means variando el número de clusters asignados y para cada ejecucion se calcula la inercia (también es posible hacerlo con la suma de las distancias al cuadrado) de cada punto a su centroide asignado, a esto se le llama distorción.\n",
    "\n",
    "Una vez graficada la distorción contra el número de clusters podemos ver una gráfica que toma la forma de un codo, de la cual su punto de inflexion nos indica el número adecuado de clusters."
   ]
  },
  {
   "cell_type": "code",
   "execution_count": 7,
   "metadata": {},
   "outputs": [
    {
     "data": {
      "image/png": "[encoded data removed]",
      "text/plain": [
       "<Figure size 432x288 with 1 Axes>"
      ]
     },
     "metadata": {
      "needs_background": "light"
     },
     "output_type": "display_data"
    }
   ],
   "source": [
    "from sklearn.cluster import KMeans\n",
    "\n",
    "distorcion=[]\n",
    "K=range(1,10)\n",
    "\n",
    "for k in K:\n",
    "    kmeans= KMeans(n_clusters=k)\n",
    "    kmeans.fit(datos_petalos)\n",
    "    distorcion.append(kmeans.inertia_)\n",
    "    \n",
    "plt.plot(K,distorcion, 'bx-')\n",
    "plt.xlabel('Numero de clusters')\n",
    "plt.ylabel('Distorción')\n",
    "plt.title('Método elbow')\n",
    "plt.show()"
   ]
  },
  {
   "cell_type": "markdown",
   "metadata": {},
   "source": [
    "## Implementacion de k-means con sklearn"
   ]
  },
  {
   "cell_type": "code",
   "execution_count": 8,
   "metadata": {},
   "outputs": [
    {
     "data": {
      "image/png": "[encoded data removed]",
      "text/plain": [
       "<Figure size 432x288 with 1 Axes>"
      ]
     },
     "metadata": {
      "needs_background": "light"
     },
     "output_type": "display_data"
    }
   ],
   "source": [
    "kmeans= KMeans(n_clusters=3)\n",
    "modelo=kmeans.fit_predict(datos_petalos)\n",
    "\n",
    "centroides=kmeans.cluster_centers_.T\n",
    "\n",
    "#datos_petalos[modelo==0,0] le decimos grafica los puntos x donde mi modelo valga 0 \n",
    "#datos_petalos[modelo==0,1] le decimos grafica los puntos y donde mi modelo valga 0 \n",
    "plt.scatter(datos_petalos[modelo==0,0],datos_petalos[modelo==0,1], c='lightgreen')\n",
    "plt.scatter(datos_petalos[modelo==1,0],datos_petalos[modelo==1,1], c='orange')\n",
    "plt.scatter(datos_petalos[modelo==2,0],datos_petalos[modelo==2,1], c='lightblue')\n",
    "plt.scatter(*centroides, marker='x', color='black')\n",
    "\n",
    "plt.title('KMeans con sklearn')\n",
    "plt.xlabel('Longitud del petalo')\n",
    "plt.ylabel('Ancho del petalo')\n",
    "plt.show()"
   ]
  },
  {
   "cell_type": "code",
   "execution_count": null,
   "metadata": {},
   "outputs": [],
   "source": []
  }
 ],
 "metadata": {
  "kernelspec": {
   "display_name": "Python 3",
   "language": "python",
   "name": "python3"
  },
  "language_info": {
   "codemirror_mode": {
    "name": "ipython",
    "version": 3
   },
   "file_extension": ".py",
   "mimetype": "text/x-python",
   "name": "python",
   "nbconvert_exporter": "python",
   "pygments_lexer": "ipython3",
   "version": "3.7.1"
  }
 },
 "nbformat": 4,
 "nbformat_minor": 2
}
