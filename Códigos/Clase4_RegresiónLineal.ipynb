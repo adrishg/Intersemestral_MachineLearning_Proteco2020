{
  "nbformat": 4,
  "nbformat_minor": 0,
  "metadata": {
    "colab": {
      "name": "Clase4-RegresiónLineal.ipynb",
      "provenance": [],
      "collapsed_sections": []
    },
    "kernelspec": {
      "name": "python3",
      "display_name": "Python 3"
    }
  },
  "cells": [
    {
      "cell_type": "markdown",
      "metadata": {
        "id": "KfQXrSyKpYT6",
        "colab_type": "text"
      },
      "source": [
        "#Regresión lineal"
      ]
    },
    {
      "cell_type": "code",
      "metadata": {
        "id": "BS75T-USpNgl",
        "colab_type": "code",
        "colab": {}
      },
      "source": [
        "import pandas as pd\n",
        "import numpy as np\n",
        "import matplotlib.pyplot as plt"
      ],
      "execution_count": null,
      "outputs": []
    },
    {
      "cell_type": "code",
      "metadata": {
        "id": "WVcOBPeDprut",
        "colab_type": "code",
        "colab": {
          "base_uri": "https://localhost:8080/",
          "height": 195
        },
        "outputId": "7868e3ce-13e0-4df2-a862-eb66f28fc8be"
      },
      "source": [
        "url = \"https://raw.githubusercontent.com/adrishg/Intersemestral_MachineLearning_Proteco2020/master/DataSets/regresionLineal.csv\"\n",
        "data = pd.read_csv(url)\n",
        "data.head()"
      ],
      "execution_count": null,
      "outputs": [
        {
          "output_type": "execute_result",
          "data": {
            "text/html": [
              "<div>\n",
              "<style scoped>\n",
              "    .dataframe tbody tr th:only-of-type {\n",
              "        vertical-align: middle;\n",
              "    }\n",
              "\n",
              "    .dataframe tbody tr th {\n",
              "        vertical-align: top;\n",
              "    }\n",
              "\n",
              "    .dataframe thead th {\n",
              "        text-align: right;\n",
              "    }\n",
              "</style>\n",
              "<table border=\"1\" class=\"dataframe\">\n",
              "  <thead>\n",
              "    <tr style=\"text-align: right;\">\n",
              "      <th></th>\n",
              "      <th>poblacion</th>\n",
              "      <th>beneficio</th>\n",
              "    </tr>\n",
              "  </thead>\n",
              "  <tbody>\n",
              "    <tr>\n",
              "      <th>0</th>\n",
              "      <td>6.1101</td>\n",
              "      <td>17.5920</td>\n",
              "    </tr>\n",
              "    <tr>\n",
              "      <th>1</th>\n",
              "      <td>5.5277</td>\n",
              "      <td>9.1302</td>\n",
              "    </tr>\n",
              "    <tr>\n",
              "      <th>2</th>\n",
              "      <td>8.5186</td>\n",
              "      <td>13.6620</td>\n",
              "    </tr>\n",
              "    <tr>\n",
              "      <th>3</th>\n",
              "      <td>7.0032</td>\n",
              "      <td>11.8540</td>\n",
              "    </tr>\n",
              "    <tr>\n",
              "      <th>4</th>\n",
              "      <td>5.8598</td>\n",
              "      <td>6.8233</td>\n",
              "    </tr>\n",
              "  </tbody>\n",
              "</table>\n",
              "</div>"
            ],
            "text/plain": [
              "   poblacion  beneficio\n",
              "0     6.1101    17.5920\n",
              "1     5.5277     9.1302\n",
              "2     8.5186    13.6620\n",
              "3     7.0032    11.8540\n",
              "4     5.8598     6.8233"
            ]
          },
          "metadata": {
            "tags": []
          },
          "execution_count": 2
        }
      ]
    },
    {
      "cell_type": "code",
      "metadata": {
        "id": "ydN4TSrrqN2i",
        "colab_type": "code",
        "colab": {
          "base_uri": "https://localhost:8080/",
          "height": 168
        },
        "outputId": "89f8b147-8413-49a5-e64f-2109a8a8b6ce"
      },
      "source": [
        "data.info()"
      ],
      "execution_count": null,
      "outputs": [
        {
          "output_type": "stream",
          "text": [
            "<class 'pandas.core.frame.DataFrame'>\n",
            "RangeIndex: 97 entries, 0 to 96\n",
            "Data columns (total 2 columns):\n",
            " #   Column     Non-Null Count  Dtype  \n",
            "---  ------     --------------  -----  \n",
            " 0   poblacion  97 non-null     float64\n",
            " 1   beneficio  97 non-null     float64\n",
            "dtypes: float64(2)\n",
            "memory usage: 1.6 KB\n"
          ],
          "name": "stdout"
        }
      ]
    },
    {
      "cell_type": "code",
      "metadata": {
        "id": "lsFckIQeqcH_",
        "colab_type": "code",
        "colab": {
          "base_uri": "https://localhost:8080/",
          "height": 295
        },
        "outputId": "8656d872-3c0b-4e29-b859-d5a14009dd25"
      },
      "source": [
        "#Gráfica\n",
        "\n",
        "X = data.poblacion.values\n",
        "Y = data.beneficio.values\n",
        "\n",
        "plt.scatter(X,Y)\n",
        "\n",
        "plt.xlabel(\"Población\")\n",
        "plt.ylabel(\"Beneficio\")\n",
        "plt.title(\"Población vs Beneficio\")\n",
        "plt.show()"
      ],
      "execution_count": null,
      "outputs": [
        {
          "output_type": "display_data",
          "data": {
            "image/png": "[encoded data removed]",
            "text/plain": [
              "<Figure size 432x288 with 1 Axes>"
            ]
          },
          "metadata": {
            "tags": [],
            "needs_background": "light"
          }
        }
      ]
    },
    {
      "cell_type": "code",
      "metadata": {
        "id": "aCuJWaeurfly",
        "colab_type": "code",
        "colab": {}
      },
      "source": [
        "#1) Separar los datos de entrenamiento a los de test\n",
        "def separacionDatos(X, Y, tamanioTest=0.2):\n",
        "  m= Y.size\n",
        "  testTamanio = int(m*tamanioTest)\n",
        "  indicesTest= np.random.choice(m,testTamanio)\n",
        "  #setdiff1d regresa un vector con elementos que estan el parametro uno y no en el parametro dos\n",
        "  indicesEntrenamiento = np.setdiff1d(np.arange(m),indicesTest)\n",
        "  return X[indicesTest], Y[indicesTest], X[indicesEntrenamiento], Y[indicesEntrenamiento]"
      ],
      "execution_count": null,
      "outputs": []
    },
    {
      "cell_type": "code",
      "metadata": {
        "id": "T4EBa1P5tw1J",
        "colab_type": "code",
        "colab": {}
      },
      "source": [
        "#2)Función de hipótesis\n",
        "def funcionHipotesis(X, theta):\n",
        "  h = X @ theta\n",
        "  return h"
      ],
      "execution_count": null,
      "outputs": []
    },
    {
      "cell_type": "code",
      "metadata": {
        "id": "thAPQkSvutQo",
        "colab_type": "code",
        "colab": {}
      },
      "source": [
        "# 3)Función de costo\n",
        "def funcionCosto(X,Y,theta):\n",
        "  h = funcionHipotesis(X, theta)\n",
        "  m = Y.size #En este ejemplo es 97\n",
        "  variableDump = h - Y\n",
        "  j = (variableDump @ variableDump)/(2*m)\n",
        "  return j"
      ],
      "execution_count": null,
      "outputs": []
    },
    {
      "cell_type": "code",
      "metadata": {
        "id": "egz4CgQ-wy2N",
        "colab_type": "code",
        "colab": {}
      },
      "source": [
        "# 4) Función de gradientes de la función de costo\n",
        "def gradienteCostos(X,Y,theta):\n",
        "  m= Y.size\n",
        "  h = funcionHipotesis(X, theta)\n",
        "  dj= ((h-Y)@X) /m\n",
        "  return dj"
      ],
      "execution_count": null,
      "outputs": []
    },
    {
      "cell_type": "code",
      "metadata": {
        "id": "AKvb1rBFxfv5",
        "colab_type": "code",
        "colab": {}
      },
      "source": [
        "# 5) Gradiente de descenso\n",
        "def gradienteDescenso(X, Y, alfa, E=0.001):\n",
        "  m= Y.size\n",
        "  X= np.hstack([np.ones([m,1]),X])\n",
        "  n = X.shape[1]\n",
        "\n",
        "  theta= np.zeros([n])\n",
        "\n",
        "  costoAnterior = funcionCosto(X,Y,theta)\n",
        "  theta= theta-alfa * gradienteCostos(X,Y,theta)\n",
        "  costoActual = funcionCosto(X,Y,theta)\n",
        "\n",
        "  diferenciaCostos = abs(costoActual - costoAnterior)\n",
        "\n",
        "  numIteraciones = [0, 1]\n",
        "  yCostos= [ costoAnterior, costoActual ]\n",
        "  i=2\n",
        "\n",
        "  while diferenciaCostos > E:\n",
        "     #mientras no converga, es decir que la derivada sea diferente de 0\n",
        "     costoAnterior = costoActual\n",
        "     theta= theta-alfa * gradienteCostos(X,Y,theta)\n",
        "     costoActual = funcionCosto(X,Y,theta)\n",
        "\n",
        "     diferenciaCostos = abs(costoActual - costoAnterior)\n",
        "\n",
        "     numIteraciones.append(i)\n",
        "     yCostos.append(costoActual)\n",
        "     i = i+1\n",
        "\n",
        "  plt.plot(numIteraciones, yCostos)\n",
        "  plt.title('Función de costo con respecto a las iteraciones')\n",
        "  plt.xlabel(\"Iteraciones\")\n",
        "  plt.ylabel(\"Costo\")\n",
        "\n",
        "  print(\"El último costo:\",yCostos[-1])\n",
        "  plt.show()\n",
        "\n",
        "  return theta"
      ],
      "execution_count": null,
      "outputs": []
    },
    {
      "cell_type": "code",
      "metadata": {
        "id": "_7FT17OflCR4",
        "colab_type": "code",
        "colab": {
          "base_uri": "https://localhost:8080/",
          "height": 312
        },
        "outputId": "2d23856b-8d79-4207-d0a6-36545f87c17f"
      },
      "source": [
        "alfa=0.001\n",
        "X = X.reshape([Y.size,1])\n",
        "#Separación entre test y training\n",
        "\n",
        "xTest, yTest, xEntrenamiento, yEntrenamiento = separacionDatos(X,Y)\n",
        "theta = gradienteDescenso(xEntrenamiento, yEntrenamiento, alfa)"
      ],
      "execution_count": null,
      "outputs": [
        {
          "output_type": "stream",
          "text": [
            "El último costo: 5.87653629305866\n"
          ],
          "name": "stdout"
        },
        {
          "output_type": "display_data",
          "data": {
            "image/png": "[encoded data removed]",
            "text/plain": [
              "<Figure size 432x288 with 1 Axes>"
            ]
          },
          "metadata": {
            "tags": [],
            "needs_background": "light"
          }
        }
      ]
    },
    {
      "cell_type": "code",
      "metadata": {
        "id": "t2zu3rv6m9SP",
        "colab_type": "code",
        "colab": {
          "base_uri": "https://localhost:8080/",
          "height": 295
        },
        "outputId": "2957d3e9-3fdb-4927-852a-53afd4847233"
      },
      "source": [
        "#Gráfica\n",
        "\n",
        "X = data.poblacion.values\n",
        "Y = data.beneficio.values\n",
        "\n",
        "plt.scatter(X,Y)\n",
        "\n",
        "x = np.linspace(4.5,24)\n",
        "y = theta[0]+ theta[1]*x\n",
        "plt.plot(x,y,'r')\n",
        "\n",
        "plt.xlabel(\"Población\")\n",
        "plt.ylabel(\"Beneficio\")\n",
        "plt.title(\"Población vs Beneficio\")\n",
        "plt.show()"
      ],
      "execution_count": null,
      "outputs": [
        {
          "output_type": "display_data",
          "data": {
            "image/png": "[encoded data removed]",
            "text/plain": [
              "<Figure size 432x288 with 1 Axes>"
            ]
          },
          "metadata": {
            "tags": [],
            "needs_background": "light"
          }
        }
      ]
    },
    {
      "cell_type": "code",
      "metadata": {
        "id": "uAkWRS6Annzt",
        "colab_type": "code",
        "colab": {
          "base_uri": "https://localhost:8080/",
          "height": 67
        },
        "outputId": "266f9658-f2ec-4c36-842d-62290d113357"
      },
      "source": [
        "#Predecir el valor de algún dato en nuestro test Set\n",
        "print(\"El valor en x es: {0}\".format(xTest[0]))\n",
        "print(\"El valor en y es {0}\".format(yTest[0]))\n",
        "yPredicho= theta[0]+theta[1]*xTest[0]\n",
        "print(\"El valor predicho de y es: {0}\".format(yPredicho))\n"
      ],
      "execution_count": null,
      "outputs": [
        {
          "output_type": "stream",
          "text": [
            "El valor en x es: [5.7737]\n",
            "El valor en y es 2.4406\n",
            "El valor predicho de y es: [4.50785217]\n"
          ],
          "name": "stdout"
        }
      ]
    },
    {
      "cell_type": "code",
      "metadata": {
        "id": "RJ1nId6wpORq",
        "colab_type": "code",
        "colab": {
          "base_uri": "https://localhost:8080/",
          "height": 266
        },
        "outputId": "14a3d062-0bbd-4283-f183-a55e82bb1b85"
      },
      "source": [
        "from sklearn.linear_model import LinearRegression\n",
        "\n",
        "X= data['poblacion'].values.reshape(-1,1)\n",
        "Y= data['beneficio'].values.reshape(-1,1)\n",
        "\n",
        "modeloDeRegresion = LinearRegression()\n",
        "modeloDeRegresion.fit(X,Y)\n",
        "yPredicha = modeloDeRegresion.predict(X)\n",
        "\n",
        "theta1 = modeloDeRegresion.coef_[0][0]\n",
        "tetha0 = modeloDeRegresion.intercept_[0]\n",
        "\n",
        "plt.scatter(data['poblacion'],data['beneficio'])\n",
        "plt.plot(X, yPredicha, 'r')\n",
        "plt.show()\n"
      ],
      "execution_count": null,
      "outputs": [
        {
          "output_type": "display_data",
          "data": {
            "image/png": "[encoded data removed]",
            "text/plain": [
              "<Figure size 432x288 with 1 Axes>"
            ]
          },
          "metadata": {
            "tags": [],
            "needs_background": "light"
          }
        }
      ]
    },
    {
      "cell_type": "markdown",
      "metadata": {
        "id": "TUTCV6y2urra",
        "colab_type": "text"
      },
      "source": [
        ""
      ]
    }
  ]
}