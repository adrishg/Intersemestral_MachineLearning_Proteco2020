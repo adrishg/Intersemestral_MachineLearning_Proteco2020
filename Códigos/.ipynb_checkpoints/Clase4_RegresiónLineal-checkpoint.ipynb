{
 "cells": [
  {
   "cell_type": "markdown",
   "metadata": {
    "colab_type": "text",
    "id": "KfQXrSyKpYT6"
   },
   "source": [
    "# Regresión lineal\n",
    "\n",
    "Hola, porfavor comenten en lo posible el código que vimos hoy, les subo este pdf por si a alguien se le hace más cómodo editar sobre el pdf o hacer anotaciones sobre el código de manera literal, sino pueden recurrir a comentar el código con #su comentario"
   ]
  },
  {
   "cell_type": "code",
   "execution_count": 1,
   "metadata": {
    "colab": {},
    "colab_type": "code",
    "id": "BS75T-USpNgl"
   },
   "outputs": [],
   "source": [
    "import pandas as pd\n",
    "import numpy as np\n",
    "import matplotlib.pyplot as plt"
   ]
  },
  {
   "cell_type": "code",
   "execution_count": 3,
   "metadata": {
    "colab": {
     "base_uri": "https://localhost:8080/",
     "height": 202
    },
    "colab_type": "code",
    "id": "WVcOBPeDprut",
    "outputId": "141667d4-d2ae-4131-bb06-e1995ebd0739"
   },
   "outputs": [
    {
     "data": {
      "text/html": [
       "<div>\n",
       "<style scoped>\n",
       "    .dataframe tbody tr th:only-of-type {\n",
       "        vertical-align: middle;\n",
       "    }\n",
       "\n",
       "    .dataframe tbody tr th {\n",
       "        vertical-align: top;\n",
       "    }\n",
       "\n",
       "    .dataframe thead th {\n",
       "        text-align: right;\n",
       "    }\n",
       "</style>\n",
       "<table border=\"1\" class=\"dataframe\">\n",
       "  <thead>\n",
       "    <tr style=\"text-align: right;\">\n",
       "      <th></th>\n",
       "      <th>poblacion</th>\n",
       "      <th>beneficio</th>\n",
       "    </tr>\n",
       "  </thead>\n",
       "  <tbody>\n",
       "    <tr>\n",
       "      <th>0</th>\n",
       "      <td>6.1101</td>\n",
       "      <td>17.5920</td>\n",
       "    </tr>\n",
       "    <tr>\n",
       "      <th>1</th>\n",
       "      <td>5.5277</td>\n",
       "      <td>9.1302</td>\n",
       "    </tr>\n",
       "    <tr>\n",
       "      <th>2</th>\n",
       "      <td>8.5186</td>\n",
       "      <td>13.6620</td>\n",
       "    </tr>\n",
       "    <tr>\n",
       "      <th>3</th>\n",
       "      <td>7.0032</td>\n",
       "      <td>11.8540</td>\n",
       "    </tr>\n",
       "    <tr>\n",
       "      <th>4</th>\n",
       "      <td>5.8598</td>\n",
       "      <td>6.8233</td>\n",
       "    </tr>\n",
       "  </tbody>\n",
       "</table>\n",
       "</div>"
      ],
      "text/plain": [
       "   poblacion  beneficio\n",
       "0     6.1101    17.5920\n",
       "1     5.5277     9.1302\n",
       "2     8.5186    13.6620\n",
       "3     7.0032    11.8540\n",
       "4     5.8598     6.8233"
      ]
     },
     "execution_count": 3,
     "metadata": {
      "tags": []
     },
     "output_type": "execute_result"
    }
   ],
   "source": [
    "url = \"https://raw.githubusercontent.com/adrishg/Intersemestral_MachineLearning_Proteco2020/master/DataSets/regresionLineal.csv\"\n",
    "data = pd.read_csv(url)\n",
    "data.head()"
   ]
  },
  {
   "cell_type": "code",
   "execution_count": 6,
   "metadata": {
    "colab": {
     "base_uri": "https://localhost:8080/",
     "height": 173
    },
    "colab_type": "code",
    "id": "ydN4TSrrqN2i",
    "outputId": "9ae86c4b-a123-441c-aec2-f88465b14915"
   },
   "outputs": [
    {
     "name": "stdout",
     "output_type": "stream",
     "text": [
      "<class 'pandas.core.frame.DataFrame'>\n",
      "RangeIndex: 97 entries, 0 to 96\n",
      "Data columns (total 2 columns):\n",
      " #   Column     Non-Null Count  Dtype  \n",
      "---  ------     --------------  -----  \n",
      " 0   poblacion  97 non-null     float64\n",
      " 1   beneficio  97 non-null     float64\n",
      "dtypes: float64(2)\n",
      "memory usage: 1.6 KB\n"
     ]
    }
   ],
   "source": [
    "data.info()"
   ]
  },
  {
   "cell_type": "code",
   "execution_count": 12,
   "metadata": {
    "colab": {
     "base_uri": "https://localhost:8080/",
     "height": 295
    },
    "colab_type": "code",
    "id": "lsFckIQeqcH_",
    "outputId": "fb3cf509-7cbb-414d-f569-c38b569c7b9c"
   },
   "outputs": [
    {
     "data": {
      "image/png": "[encoded data removed]",
      "text/plain": [
       "<Figure size 432x288 with 1 Axes>"
      ]
     },
     "metadata": {
      "needs_background": "light",
      "tags": []
     },
     "output_type": "display_data"
    }
   ],
   "source": [
    "#Gráfica\n",
    "\n",
    "X = data.poblacion.values\n",
    "Y = data.beneficio.values\n",
    "\n",
    "plt.scatter(X,Y)\n",
    "\n",
    "plt.xlabel(\"Población\")\n",
    "plt.ylabel(\"Beneficio\")\n",
    "plt.title(\"Población vs Beneficio\")\n",
    "plt.show()"
   ]
  },
  {
   "cell_type": "code",
   "execution_count": 14,
   "metadata": {
    "colab": {},
    "colab_type": "code",
    "id": "aCuJWaeurfly"
   },
   "outputs": [],
   "source": [
    "#1) Separar los datos de entrenamiento a los de test\n",
    "def separacionDatos(X, Y, tamanioTest=0.2):\n",
    "  m= Y.size\n",
    "  testTamanio = int(m*tamanioTest)\n",
    "  indicesTest= np.random.choice(m,testTamanio)\n",
    "  #setdiff1d regresa un vector con elementos que estan el parametro uno y no en el parametro dos\n",
    "  indicesEntrenamiento = np.setdiff1d(np.arange(m),indicesTest)\n",
    "  return X[indicesTest], Y[indicesTest], X[indicesEntrenamiento], Y[indicesEntrenamiento]"
   ]
  },
  {
   "cell_type": "code",
   "execution_count": 18,
   "metadata": {
    "colab": {},
    "colab_type": "code",
    "id": "T4EBa1P5tw1J"
   },
   "outputs": [],
   "source": [
    "#2)Función de hipótesis\n",
    "def funcionHipotesis(X, theta):\n",
    "  h = X @ theta\n",
    "  return h"
   ]
  },
  {
   "cell_type": "code",
   "execution_count": 19,
   "metadata": {
    "colab": {},
    "colab_type": "code",
    "id": "thAPQkSvutQo"
   },
   "outputs": [],
   "source": [
    "# 3)Función de costo\n",
    "def funcionCosto(X,Y,theta):\n",
    "  h = funcionHipotesis(X, theta)\n",
    "  m = Y.size #En este ejemplo es 97\n",
    "  variableDump = h - Y\n",
    "  j = (variableDump @ variableDump)/(2*m)\n",
    "  return j"
   ]
  },
  {
   "cell_type": "code",
   "execution_count": 20,
   "metadata": {
    "colab": {},
    "colab_type": "code",
    "id": "egz4CgQ-wy2N"
   },
   "outputs": [],
   "source": [
    "# 4) Función de gradientes de la función de costo\n",
    "def gradienteCostos(X,Y,theta):\n",
    "  m= Y.size\n",
    "  h = funcionHipotesis(X, theta)\n",
    "  dj= ((h-Y)@X) /m\n",
    "  return dj"
   ]
  },
  {
   "cell_type": "code",
   "execution_count": 21,
   "metadata": {
    "colab": {},
    "colab_type": "code",
    "id": "AKvb1rBFxfv5"
   },
   "outputs": [],
   "source": [
    "# 5) Gradiente de descenso\n",
    "def gradienteDescenso(X, Y, alfa, E=0.001):\n",
    "  m= Y.size\n",
    "  X= np.hstack([np.ones([m,1]),X])\n",
    "  n = X.shape[1]\n",
    "\n",
    "  theta= np.zeros([n])\n",
    "\n",
    "  costoAnterior = funcionCosto(X,Y,theta)\n",
    "  theta= theta-alfa * gradienteCostos(X,Y,theta)\n",
    "  costoActual = funcionCosto(X,Y,theta)\n",
    "\n",
    "  diferenciaCostos = abs(costoActual - costoAnterior)\n",
    "\n",
    "  numIteraciones = [0, 1]\n",
    "  yCostos= [ costoAnterior, costoActual ]\n",
    "  i=2\n",
    "\n",
    "  while diferenciaCostos > E:\n",
    "     #mientras no converga, es decir que la derivada sea diferente de 0\n",
    "     costoAnterior = costoActual\n",
    "     theta= theta-alfa * gradienteCostos(X,Y,theta)\n",
    "     costoActual = funcionCosto(X,Y,theta)\n",
    "\n",
    "     diferenciaCostos = abs(costoActual - costoAnterior)\n",
    "\n",
    "     numIteraciones.append(i)\n",
    "     yCostos.append(costoActual)\n",
    "     i = i+1\n",
    "\n",
    "  return theta"
   ]
  },
  {
   "cell_type": "code",
   "execution_count": null,
   "metadata": {
    "colab": {},
    "colab_type": "code",
    "id": "SQmUoRJf1enE"
   },
   "outputs": [],
   "source": []
  },
  {
   "cell_type": "markdown",
   "metadata": {
    "colab_type": "text",
    "id": "TUTCV6y2urra"
   },
   "source": []
  }
 ],
 "metadata": {
  "colab": {
   "collapsed_sections": [],
   "name": "Clase4-RegresiónLineal.ipynb",
   "provenance": []
  },
  "kernelspec": {
   "display_name": "Python 3",
   "language": "python",
   "name": "python3"
  },
  "language_info": {
   "codemirror_mode": {
    "name": "ipython",
    "version": 3
   },
   "file_extension": ".py",
   "mimetype": "text/x-python",
   "name": "python",
   "nbconvert_exporter": "python",
   "pygments_lexer": "ipython3",
   "version": "3.7.3"
  }
 },
 "nbformat": 4,
 "nbformat_minor": 1
}
