{
  "nbformat": 4,
  "nbformat_minor": 0,
  "metadata": {
    "colab": {
      "name": "Clase2-NumPy.ipynb",
      "provenance": []
    },
    "kernelspec": {
      "name": "python3",
      "display_name": "Python 3"
    }
  },
  "cells": [
    {
      "cell_type": "markdown",
      "metadata": {
        "id": "NrU_1zBRIe0e",
        "colab_type": "text"
      },
      "source": [
        "# Importar bibliotecas"
      ]
    },
    {
      "cell_type": "code",
      "metadata": {
        "id": "Pi_ZEDOrIxYd",
        "colab_type": "code",
        "colab": {
          "base_uri": "https://localhost:8080/",
          "height": 35
        },
        "outputId": "6371726e-2d35-48ba-fb14-0ce9b77a7153"
      },
      "source": [
        "from numpy import array\n",
        "#Solo se manda a llamar una parte de la biblioteca\n",
        "\n",
        "arr = array([1, 2, 3, 4, 5])#Crear arreglo\n",
        "print(arr)"
      ],
      "execution_count": 1,
      "outputs": [
        {
          "output_type": "stream",
          "text": [
            "[1 2 3 4 5]\n"
          ],
          "name": "stdout"
        }
      ]
    },
    {
      "cell_type": "code",
      "metadata": {
        "id": "TX2XMmunJhyf",
        "colab_type": "code",
        "colab": {
          "base_uri": "https://localhost:8080/",
          "height": 35
        },
        "outputId": "8792c774-7d9b-49ef-80a7-67f20f80bb98"
      },
      "source": [
        "import numpy \n",
        "#Importar toda la biblioteca\n",
        "\n",
        "arr = numpy.array([1, 2, 3, 4, 5])#Como parámetro recibe una lista o tupla. Pueden ser anidadas.\n",
        "print(arr)"
      ],
      "execution_count": 2,
      "outputs": [
        {
          "output_type": "stream",
          "text": [
            "[1 2 3 4 5]\n"
          ],
          "name": "stdout"
        }
      ]
    },
    {
      "cell_type": "code",
      "metadata": {
        "id": "pdihqMjXJ9Qn",
        "colab_type": "code",
        "colab": {
          "base_uri": "https://localhost:8080/",
          "height": 69
        },
        "outputId": "c2febcfe-42c3-495e-aff7-79e92f2e40b2"
      },
      "source": [
        "import numpy as np\n",
        "#Se hace uso de un alias\n",
        "\n",
        "arr = np.array([1, 2, 3, 4, 5])\n",
        "print(arr)\n",
        "\n",
        "print(type(arr))\n",
        "print(arr.dtype)"
      ],
      "execution_count": 5,
      "outputs": [
        {
          "output_type": "stream",
          "text": [
            "[1 2 3 4 5]\n",
            "<class 'numpy.ndarray'>\n",
            "int64\n"
          ],
          "name": "stdout"
        }
      ]
    },
    {
      "cell_type": "code",
      "metadata": {
        "id": "QNRAg_WhKfbb",
        "colab_type": "code",
        "colab": {
          "base_uri": "https://localhost:8080/",
          "height": 104
        },
        "outputId": "46192581-62f0-43ae-eb1d-3931fe046806"
      },
      "source": [
        "#Creando arreglos de varias dimensiones\n",
        "cero = np.array(42) #Cero\n",
        "uno = np.array([1, 2, 3, 4, 5]) #Uno\n",
        "dos = np.array([[1, 2, 3], [4, 5, 6], [7, 8, 9]]) #Dos\n",
        "tres = np.array([[[1,2,3],[4,5,6]],[[7,8,9],[10,11,12]]]) #Tres\n",
        "\n",
        "#Imprimir dimensiones\n",
        "print(cero.ndim)\n",
        "print(uno.ndim)\n",
        "print(dos.ndim)\n",
        "print(tres.ndim)\n",
        "\n",
        "#Creando arreglos de n dimensión\n",
        "cinco = np.array([1,2,3,4], ndmin = 5)\n",
        "print(cinco)"
      ],
      "execution_count": 35,
      "outputs": [
        {
          "output_type": "stream",
          "text": [
            "0\n",
            "1\n",
            "2\n",
            "3\n",
            "[[[[[1 2 3 4]]]]]\n"
          ],
          "name": "stdout"
        }
      ]
    },
    {
      "cell_type": "code",
      "metadata": {
        "id": "_qx1uXnqN0Xi",
        "colab_type": "code",
        "colab": {
          "base_uri": "https://localhost:8080/",
          "height": 191
        },
        "outputId": "99cb7fdf-0a6d-47c1-d74a-bdd2e04913c8"
      },
      "source": [
        "#Accediendo a elementos\n",
        "print(uno[0])\n",
        "print(dos[1,0])\n",
        "print(tres[0,1,1])\n",
        "\n",
        "#Acceder a un rango de datos\n",
        "print(uno[1:4]) #El primero se incluye y el segundo se excluye\n",
        "print(uno[1:]) #Hasta el final\n",
        "print(uno[:4]) #Desde el principio\n",
        "print(uno[-3:-1])\n",
        "print(uno[1:4:2])\n",
        "\n",
        "print(dos[0,1:])\n",
        "print(dos[0:2, 1])"
      ],
      "execution_count": 22,
      "outputs": [
        {
          "output_type": "stream",
          "text": [
            "1\n",
            "4\n",
            "5\n",
            "[2 3 4]\n",
            "[2 3 4 5]\n",
            "[1 2 3 4]\n",
            "[3 4]\n",
            "[2 4]\n",
            "[2 3]\n",
            "[2 5]\n"
          ],
          "name": "stdout"
        }
      ]
    },
    {
      "cell_type": "code",
      "metadata": {
        "id": "_VAJapBYPawE",
        "colab_type": "code",
        "colab": {
          "base_uri": "https://localhost:8080/",
          "height": 69
        },
        "outputId": "82e9152f-08da-4307-8123-b44343f9637a"
      },
      "source": [
        "cadena = np.array(['lechuga','espinaca','brocolí'])\n",
        "print(cadena.dtype)\n",
        "\n",
        "flotante = np.array([4.5534, 6.5435, 4566.3322])\n",
        "print(flotante.dtype)\n",
        "\n",
        "cadena = np.array([1, 2, 3, 4], dtype='f')\n",
        "print(cadena.dtype)"
      ],
      "execution_count": 28,
      "outputs": [
        {
          "output_type": "stream",
          "text": [
            "<U8\n",
            "float64\n",
            "float32\n"
          ],
          "name": "stdout"
        }
      ]
    },
    {
      "cell_type": "code",
      "metadata": {
        "id": "zlaYGTp7UWJp",
        "colab_type": "code",
        "colab": {
          "base_uri": "https://localhost:8080/",
          "height": 35
        },
        "outputId": "a0d15c5f-2b5e-48aa-f6bd-043e1876f7d0"
      },
      "source": [
        "#Método astype()\n",
        "entero = flotante.astype(int) #('i')\n",
        "print(entero)"
      ],
      "execution_count": 32,
      "outputs": [
        {
          "output_type": "stream",
          "text": [
            "[   4    6 4566]\n"
          ],
          "name": "stdout"
        }
      ]
    },
    {
      "cell_type": "code",
      "metadata": {
        "id": "Vr57ovkSVzLu",
        "colab_type": "code",
        "colab": {
          "base_uri": "https://localhost:8080/",
          "height": 52
        },
        "outputId": "e2a78855-4db2-480d-c389-d6959fb1629b"
      },
      "source": [
        "#Copiar copy()\n",
        "copia = entero.copy()\n",
        "copia[0] = 10000\n",
        "\n",
        "print(copia)\n",
        "print(entero)"
      ],
      "execution_count": 33,
      "outputs": [
        {
          "output_type": "stream",
          "text": [
            "[10000     6  4566]\n",
            "[   4    6 4566]\n"
          ],
          "name": "stdout"
        }
      ]
    },
    {
      "cell_type": "code",
      "metadata": {
        "id": "EgKtI_ydW86a",
        "colab_type": "code",
        "colab": {
          "base_uri": "https://localhost:8080/",
          "height": 156
        },
        "outputId": "fa34439a-f322-411d-a07a-87d30aede090"
      },
      "source": [
        "print(dos.shape) #Forma \n",
        "print(dos.size) #Tamaño\n",
        "\n",
        "print(tres.shape)\n",
        "\n",
        "#Reshape() cambiar la forma\n",
        "arreglo = np.array([1, 2, 3, 4, 5, 6, 7, 8, 9, 10, 11, 12])\n",
        "nuevo_arr = arreglo.reshape(4,3)\n",
        "nuevo_arr[0,0] = 10000\n",
        "\n",
        "print(arreglo)\n",
        "print(nuevo_arr)"
      ],
      "execution_count": 43,
      "outputs": [
        {
          "output_type": "stream",
          "text": [
            "(3, 3)\n",
            "9\n",
            "(2, 2, 3)\n",
            "[10000     2     3     4     5     6     7     8     9    10    11    12]\n",
            "[[10000     2     3]\n",
            " [    4     5     6]\n",
            " [    7     8     9]\n",
            " [   10    11    12]]\n"
          ],
          "name": "stdout"
        }
      ]
    },
    {
      "cell_type": "code",
      "metadata": {
        "id": "wCyI7BKQYA7F",
        "colab_type": "code",
        "colab": {
          "base_uri": "https://localhost:8080/",
          "height": 208
        },
        "outputId": "4ace8654-4cea-409f-9959-c7dbae413d73"
      },
      "source": [
        "#Iterando arreglos\n",
        "arreglo = np.array([1,2,3])\n",
        "\n",
        "for x in arreglo:\n",
        "  print(x)\n",
        "\n",
        "arreglo = np.array([[1,2],[3,4]])\n",
        "for x in arreglo:\n",
        "  for y in x:\n",
        "    print(y)\n",
        "\n",
        "#nditer() Iterador n dimensiones\n",
        "for x in np.nditer(arreglo):\n",
        "  print(x)"
      ],
      "execution_count": 49,
      "outputs": [
        {
          "output_type": "stream",
          "text": [
            "1\n",
            "2\n",
            "3\n",
            "1\n",
            "2\n",
            "3\n",
            "4\n",
            "1\n",
            "2\n",
            "3\n",
            "4\n"
          ],
          "name": "stdout"
        }
      ]
    },
    {
      "cell_type": "markdown",
      "metadata": {
        "id": "VNEnmlObc2zh",
        "colab_type": "text"
      },
      "source": [
        "Métodos de Numpy"
      ]
    },
    {
      "cell_type": "code",
      "metadata": {
        "id": "jRh3jSS8bYPH",
        "colab_type": "code",
        "colab": {
          "base_uri": "https://localhost:8080/",
          "height": 69
        },
        "outputId": "8df3da66-4aaa-4d4c-948d-877d4f9b521f"
      },
      "source": [
        "#hstack() y vstack()  \n",
        "arr1 = np.array([1,2,3])\n",
        "arr2 = np.array([4,5,6])\n",
        "horizontal = np.hstack((arr1,arr2))\n",
        "vertical = np.vstack((arr1,arr2))\n",
        "\n",
        "print(horizontal)\n",
        "print(vertical)"
      ],
      "execution_count": 52,
      "outputs": [
        {
          "output_type": "stream",
          "text": [
            "[1 2 3 4 5 6]\n",
            "[[1 2 3]\n",
            " [4 5 6]]\n"
          ],
          "name": "stdout"
        }
      ]
    },
    {
      "cell_type": "code",
      "metadata": {
        "id": "nF8ZItuHdoYN",
        "colab_type": "code",
        "colab": {
          "base_uri": "https://localhost:8080/",
          "height": 173
        },
        "outputId": "8ae63a2e-b715-46fe-9d1d-cf31a2949a36"
      },
      "source": [
        "from numpy import random #Aleatorio\n",
        "\n",
        "x = random.randint(100)#Entero\n",
        "print(x)\n",
        "\n",
        "x = random.rand(3,3)#Float\n",
        "print(x)\n",
        "\n",
        "x = random.randint(100, size = (5,5))\n",
        "print(x)"
      ],
      "execution_count": 91,
      "outputs": [
        {
          "output_type": "stream",
          "text": [
            "90\n",
            "[[0.56390647 0.18427955 0.63854346]\n",
            " [0.34153506 0.98266209 0.39035568]\n",
            " [0.18386205 0.92104437 0.95683752]]\n",
            "[[91 58 72 41 41]\n",
            " [31 81 79 65 18]\n",
            " [79 54 72 35 69]\n",
            " [47  5 86 47 35]\n",
            " [45 76 76 92 83]]\n"
          ],
          "name": "stdout"
        }
      ]
    },
    {
      "cell_type": "code",
      "metadata": {
        "id": "YU6giK1Pebok",
        "colab_type": "code",
        "colab": {
          "base_uri": "https://localhost:8080/",
          "height": 347
        },
        "outputId": "c01e9e8a-1809-489c-860c-275302ff754e"
      },
      "source": [
        "#Arange\n",
        "arr1 = np.arange(5,16,2)#Inicio, fin, paso\n",
        "print(arr1)\n",
        "\n",
        "#Linspace\n",
        "arr = np.linspace(10,20, num=3)#Inicio, fin, división\n",
        "print(arr)\n",
        "\n",
        "#Mean\n",
        "media = np.mean(x)\n",
        "print(media)\n",
        "\n",
        "#Sum\n",
        "suma = np.sum(x)\n",
        "print(suma)\n",
        "\n",
        "#Ones (Unos)\n",
        "arr = np.ones((3,3), dtype=int)\n",
        "print(arr)\n",
        "\n",
        "#Zeros (Ceros)\n",
        "arr = np.zeros((4,4), dtype=int)\n",
        "print(arr)\n",
        "\n",
        "#Sqrt (Square root = raíz cuadrada)\n",
        "arr = np.array([4,9,16])\n",
        "raiz = np.sqrt(arr)\n",
        "print(raiz)\n",
        "\n",
        "#Empty\n",
        "arr = np.empty([2,2], dtype=int)\n",
        "print(arr)\n",
        "\n",
        "#Full\n",
        "arr = np.full((3,3), [1,2,3])\n",
        "print(arr)\n",
        "\n",
        "#Max y min\n",
        "maximo = np.amax(x)\n",
        "minimo = np.amin(x)\n",
        "print(maximo)\n",
        "print(minimo)"
      ],
      "execution_count": 96,
      "outputs": [
        {
          "output_type": "stream",
          "text": [
            "[ 5  7  9 11 13 15]\n",
            "[10. 15. 20.]\n",
            "59.12\n",
            "1478\n",
            "[[1 1 1]\n",
            " [1 1 1]\n",
            " [1 1 1]]\n",
            "[[0 0 0 0]\n",
            " [0 0 0 0]\n",
            " [0 0 0 0]\n",
            " [0 0 0 0]]\n",
            "[2. 3. 4.]\n",
            "[[0 1]\n",
            " [0 0]]\n",
            "[[1 2 3]\n",
            " [1 2 3]\n",
            " [1 2 3]]\n",
            "92\n",
            "5\n"
          ],
          "name": "stdout"
        }
      ]
    },
    {
      "cell_type": "code",
      "metadata": {
        "id": "sq6yyeT3f3CN",
        "colab_type": "code",
        "colab": {}
      },
      "source": [
        "\n"
      ],
      "execution_count": null,
      "outputs": []
    }
  ]
}